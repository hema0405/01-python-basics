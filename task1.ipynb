{
 "cells": [
  {
   "cell_type": "markdown",
   "id": "39d82e5b-e52f-469e-9939-babe6f51fedc",
   "metadata": {},
   "source": [
    "# simple calculator\n",
    "### print statement"
   ]
  },
  {
   "cell_type": "code",
   "execution_count": 2,
   "id": "6053dc4b-39c9-44a1-8b63-1565335a2688",
   "metadata": {},
   "outputs": [
    {
     "name": "stdout",
     "output_type": "stream",
     "text": [
      "the addition of the number is 20\n",
      "the subtraction of the number is 0\n",
      "the multiplication of the number is 100\n",
      "the division of the number is 1.0\n"
     ]
    }
   ],
   "source": [
    "a=10\n",
    "b=10\n",
    "print(\"the addition of the number is\",a+b)\n",
    "print(\"the subtraction of the number is\",a-b)\n",
    "print(\"the multiplication of the number is\",a*b)\n",
    "print(\"the division of the number is\",a/b)"
   ]
  },
  {
   "cell_type": "markdown",
   "id": "46cfd57b-2722-4f9f-a4f2-4defcf233dda",
   "metadata": {},
   "source": [
    "### printf statement"
   ]
  },
  {
   "cell_type": "code",
   "execution_count": 4,
   "id": "d061388a-6a45-4333-9f76-53e56408af29",
   "metadata": {},
   "outputs": [
    {
     "name": "stdout",
     "output_type": "stream",
     "text": [
      "the addition of the number is 10 the subtraction of the number is 0 the mulplication of the number is 25 the division of the number is 1.0\n"
     ]
    }
   ],
   "source": [
    "a=5\n",
    "b=5\n",
    "print(f\"the addition of the number is {a+b} the subtraction of the number is {a-b} the mulplication of the number is {a*b} the division of the number is {a/b}\")"
   ]
  },
  {
   "cell_type": "markdown",
   "id": "811296e9-4557-428b-bff9-0874938a79f1",
   "metadata": {},
   "source": [
    "### driver booking"
   ]
  },
  {
   "cell_type": "code",
   "execution_count": 16,
   "id": "9f2b44a0-2e4a-4b98-ae72-786032abb066",
   "metadata": {},
   "outputs": [
    {
     "name": "stdout",
     "output_type": "stream",
     "text": [
      " the driver_name is raja the pickup_point is mudichur the drop_point isthambaram the didtance is6kmthe timing is10 the fare is2500 the vechicle is car the status is True\n"
     ]
    }
   ],
   "source": [
    "driver_name=\"raja\"\n",
    "pickup_point=\"mudichur\"\n",
    "drop_point=\"thambaram\"\n",
    "distance=\"6km\"\n",
    "timing=10\n",
    "fare=2500\n",
    "vechicle=\"car\"\n",
    "status=True\n",
    "print(f\" the driver_name is {\"raja\"} the pickup_point is {\"mudichur\"} the drop_point is{\"thambaram\"} the didtance is{\"6km\"}the timing is{10} the fare is{2500} the vechicle is {\"car\"} the status is {True}\") "
   ]
  },
  {
   "cell_type": "markdown",
   "id": "29e7d470-5c71-47b9-800d-47c6387c9ab8",
   "metadata": {},
   "source": [
    "### printf statement \\n"
   ]
  },
  {
   "cell_type": "code",
   "execution_count": 19,
   "id": "f013cefd-263b-48d2-a981-45466152fc5b",
   "metadata": {},
   "outputs": [
    {
     "name": "stdout",
     "output_type": "stream",
     "text": [
      "the driver_name is raja \n",
      " the pickup_point is mudichur \n",
      " the drop_point is thambaram \n",
      " the distance is 6km \n",
      " the timing is 10 \n",
      " the fare is 2500 \n",
      " the vechicle is car \n",
      " the status is True\n"
     ]
    }
   ],
   "source": [
    "print(f\"the driver_name is {\"raja\"} \\n the pickup_point is {\"mudichur\"} \\n the drop_point is {\"thambaram\"} \\n the distance is {\"6km\"} \\n the timing is {10} \\n the fare is {2500} \\n the vechicle is {\"car\"} \\n the status is {True}\")"
   ]
  },
  {
   "cell_type": "code",
   "execution_count": null,
   "id": "b92d9fdc-a2e3-4273-8cd0-47b74f361659",
   "metadata": {},
   "outputs": [],
   "source": []
  }
 ],
 "metadata": {
  "kernelspec": {
   "display_name": "Python [conda env:base] *",
   "language": "python",
   "name": "conda-base-py"
  },
  "language_info": {
   "codemirror_mode": {
    "name": "ipython",
    "version": 3
   },
   "file_extension": ".py",
   "mimetype": "text/x-python",
   "name": "python",
   "nbconvert_exporter": "python",
   "pygments_lexer": "ipython3",
   "version": "3.13.5"
  }
 },
 "nbformat": 4,
 "nbformat_minor": 5
}
