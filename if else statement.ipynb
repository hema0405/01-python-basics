{
 "cells": [
  {
   "cell_type": "markdown",
   "id": "cba7f91b-df83-44ed-8abb-647651a7f7e6",
   "metadata": {},
   "source": [
    "# statement"
   ]
  },
  {
   "cell_type": "markdown",
   "id": "fc29b9cd-5823-411a-8792-05e0734dbed9",
   "metadata": {},
   "source": [
    "## conditional statement"
   ]
  },
  {
   "cell_type": "code",
   "execution_count": 2,
   "id": "afa4f923-7b0f-4ba3-8b54-8f080fcaaa32",
   "metadata": {},
   "outputs": [
    {
     "name": "stdout",
     "output_type": "stream",
     "text": [
      "you are eligible\n"
     ]
    }
   ],
   "source": [
    "age=20\n",
    "if(age>=18):\n",
    "    print(\"you are eligible\")\n",
    "else:\n",
    "    print(\"you are not eligible\")"
   ]
  },
  {
   "cell_type": "code",
   "execution_count": 4,
   "id": "b5c88c51-35fa-438d-a4cd-9493a1d305ee",
   "metadata": {},
   "outputs": [
    {
     "name": "stdin",
     "output_type": "stream",
     "text": [
      "enter your age: 20\n"
     ]
    },
    {
     "name": "stdout",
     "output_type": "stream",
     "text": [
      "you are eligible\n"
     ]
    }
   ],
   "source": [
    "age= int(input(\"enter your age:\"))\n",
    "if(age>=18):\n",
    "    print(\"you are eligible\")\n",
    "else:\n",
    "    print(\"you are not eligible\")"
   ]
  },
  {
   "cell_type": "code",
   "execution_count": 5,
   "id": "8d19d6bd-b48b-4b65-8b96-a0027ce8bc3a",
   "metadata": {},
   "outputs": [
    {
     "name": "stdout",
     "output_type": "stream",
     "text": [
      "you are not eligible\n"
     ]
    }
   ],
   "source": [
    "age=17\n",
    "if(age>18):\n",
    "    print(\"you are eligible\")\n",
    "else:\n",
    "    print(\"you are not eligible\")"
   ]
  },
  {
   "cell_type": "markdown",
   "id": "1c23ac5c-2788-4fb2-9ba9-1713b97491c9",
   "metadata": {},
   "source": [
    "# inputs la 2 part"
   ]
  },
  {
   "cell_type": "code",
   "execution_count": 6,
   "id": "27beaf1a-8c26-4392-9451-81004278a101",
   "metadata": {},
   "outputs": [
    {
     "name": "stdin",
     "output_type": "stream",
     "text": [
      "enter your first number: 20\n",
      "enter your second number: 30\n"
     ]
    }
   ],
   "source": [
    "a=int(input(\"enter your first number:\"))\n",
    "b=int(input(\"enter your second number:\"))"
   ]
  },
  {
   "cell_type": "markdown",
   "id": "67fa540c-13d0-4440-8f74-1760a285cfc2",
   "metadata": {},
   "source": [
    " # positive negative"
   ]
  },
  {
   "cell_type": "code",
   "execution_count": 7,
   "id": "6ebd34e9-de88-4a3b-a2b1-70cd1c549d5a",
   "metadata": {},
   "outputs": [
    {
     "name": "stdin",
     "output_type": "stream",
     "text": [
      " 4\n"
     ]
    },
    {
     "name": "stdout",
     "output_type": "stream",
     "text": [
      "positive number\n"
     ]
    }
   ],
   "source": [
    "num=int(input())\n",
    "if(num>0):\n",
    "    print(\"positive number\")\n",
    "else:\n",
    "    print(\"negatine\")"
   ]
  },
  {
   "cell_type": "code",
   "execution_count": 8,
   "id": "a766d441-27d4-4d1f-921d-8246951e8855",
   "metadata": {},
   "outputs": [
    {
     "name": "stdin",
     "output_type": "stream",
     "text": [
      " -1\n"
     ]
    },
    {
     "name": "stdout",
     "output_type": "stream",
     "text": [
      "negative\n"
     ]
    }
   ],
   "source": [
    "num=int(input())\n",
    "if(num>0):\n",
    "    print(\"positive\")\n",
    "else:\n",
    "    print(\"negative\")"
   ]
  },
  {
   "cell_type": "markdown",
   "id": "f250511c-1327-480f-9786-f472fc49cdab",
   "metadata": {},
   "source": [
    "# odd or even"
   ]
  },
  {
   "cell_type": "code",
   "execution_count": 9,
   "id": "3983c81f-7ec9-4bf7-bc75-0331b560696f",
   "metadata": {},
   "outputs": [
    {
     "name": "stdin",
     "output_type": "stream",
     "text": [
      " 33\n"
     ]
    },
    {
     "name": "stdout",
     "output_type": "stream",
     "text": [
      "33 is divisible by 2,odd number\n"
     ]
    }
   ],
   "source": [
    "num=int(input())\n",
    "if(num%2==0):\n",
    "    print(f\"{num} is divisible by 2,even number\") # input la 22 kudutha even print agum\n",
    "else:\n",
    "    print(f\"{num} is divisible by 2,odd number\")"
   ]
  },
  {
   "cell_type": "markdown",
   "id": "a81ca6d5-d172-4bd8-9e29-e127341eaa0e",
   "metadata": {},
   "source": [
    "# simple pass or fail"
   ]
  },
  {
   "cell_type": "code",
   "execution_count": 10,
   "id": "5fe31e53-36d3-46fb-90e8-01771aed974d",
   "metadata": {},
   "outputs": [
    {
     "name": "stdin",
     "output_type": "stream",
     "text": [
      " 55\n"
     ]
    },
    {
     "name": "stdout",
     "output_type": "stream",
     "text": [
      "pass\n"
     ]
    }
   ],
   "source": [
    "mark=int(input())\n",
    "if(mark>50):\n",
    "    print(\"pass\")\n",
    "else:\n",
    "    print(\"fail\")"
   ]
  },
  {
   "cell_type": "code",
   "execution_count": 11,
   "id": "97c0a11e-0b47-4c1e-8f8a-8c6467857008",
   "metadata": {},
   "outputs": [
    {
     "name": "stdin",
     "output_type": "stream",
     "text": [
      " 39\n"
     ]
    },
    {
     "name": "stdout",
     "output_type": "stream",
     "text": [
      "fail\n"
     ]
    }
   ],
   "source": [
    "mark=int(input())\n",
    "if(mark>50):\n",
    "    print(\"pass\")\n",
    "else:\n",
    "    print(\"fail\")"
   ]
  },
  {
   "cell_type": "markdown",
   "id": "3fe3f064-f525-442a-838c-2f7f79ad5bab",
   "metadata": {},
   "source": [
    "# grade calculator"
   ]
  },
  {
   "cell_type": "code",
   "execution_count": 12,
   "id": "b0807d76-6196-4040-b55e-09cad8bd9a62",
   "metadata": {},
   "outputs": [
    {
     "name": "stdin",
     "output_type": "stream",
     "text": [
      "enter the mark: 79\n"
     ]
    },
    {
     "name": "stdout",
     "output_type": "stream",
     "text": [
      "79 grade A\n"
     ]
    }
   ],
   "source": [
    "mark=int(input(\"enter the mark:\"))   #  or mark=int(input()) nu kudukalam\n",
    "if(mark>=91 and mark<=100):\n",
    "    print(f\"{mark} grade o \")\n",
    "elif(mark>=81 and mark<=90):\n",
    "    print(f\" {mark} grade A+\")\n",
    "elif(mark>=71 and mark<=80):\n",
    "    print(f\"{mark} grade A\")\n",
    "elif(mark>=61 and mark<=70):\n",
    "    print(f\"{mark} grade B+\")\n",
    "elif(mark>=51 and mark<=60):\n",
    "    print(f\"{mark} grade B\")\n",
    "elif(mark<50):\n",
    "    print(f\"{mark} fail\")\n",
    "else:\n",
    "    print(\"invalid mark\")"
   ]
  },
  {
   "cell_type": "markdown",
   "id": "9b73f11d-261d-4502-9609-3fe588b22570",
   "metadata": {},
   "source": [
    "# find the largest"
   ]
  },
  {
   "cell_type": "code",
   "execution_count": 13,
   "id": "e7b699bf-7f91-40ae-b61d-935de0f9bc16",
   "metadata": {},
   "outputs": [
    {
     "name": "stdin",
     "output_type": "stream",
     "text": [
      "enter any number: 10.4\n",
      "enter any number: 12.5\n",
      "enter any number: 14.7\n"
     ]
    },
    {
     "name": "stdout",
     "output_type": "stream",
     "text": [
      "c is biggest value\n"
     ]
    }
   ],
   "source": [
    "a=float(input(\"enter any number:\"))\n",
    "b=float(input(\"enter any number:\"))\n",
    "c=float(input(\"enter any number:\"))\n",
    "if(a>b and a>b):\n",
    "    print(\"a is biggest value\")\n",
    "elif(b>a and b>c):\n",
    "    print(\"b is biggest value\")\n",
    "elif(c>a and c>b):\n",
    "    print(\"c is biggest value\")"
   ]
  },
  {
   "cell_type": "markdown",
   "id": "64af8eab-72f3-4c8b-8dd8-45164974ae20",
   "metadata": {},
   "source": [
    "# vowels"
   ]
  },
  {
   "cell_type": "code",
   "execution_count": 16,
   "id": "3094bb2c-3561-458d-85dc-66834bbda6e5",
   "metadata": {},
   "outputs": [
    {
     "name": "stdin",
     "output_type": "stream",
     "text": [
      "enter the letter: A\n"
     ]
    },
    {
     "name": "stdout",
     "output_type": "stream",
     "text": [
      "vowels\n"
     ]
    }
   ],
   "source": [
    "char=input(\"enter the letter:\").lower()  # UPPER()\n",
    "if char in('a','e','i','o','u'):\n",
    "    print(\"vowels\")\n",
    "else:\n",
    "    print(\"consonent\")"
   ]
  },
  {
   "cell_type": "code",
   "execution_count": 15,
   "id": "3b08fc5f-3407-496a-80ac-da3dc3f1416f",
   "metadata": {},
   "outputs": [
    {
     "name": "stdin",
     "output_type": "stream",
     "text": [
      "enter the letter: e\n"
     ]
    },
    {
     "name": "stdout",
     "output_type": "stream",
     "text": [
      "vowels\n"
     ]
    }
   ],
   "source": [
    "char=input(\"enter the letter:\") #input la no vowel char kudutha consonent  varum\n",
    "if char in ('a','e','i','o','u'):\n",
    "    print(\"vowels\")\n",
    "else:\n",
    "    print(\"consonent\")"
   ]
  },
  {
   "cell_type": "code",
   "execution_count": 17,
   "id": "8848d91c-3604-4ade-8a28-dec620036ffc",
   "metadata": {},
   "outputs": [
    {
     "name": "stdin",
     "output_type": "stream",
     "text": [
      "enter the letter: d\n"
     ]
    },
    {
     "name": "stdout",
     "output_type": "stream",
     "text": [
      "consonent\n"
     ]
    }
   ],
   "source": [
    "char=input(\"enter the letter:\").lower()  # UPPER()\n",
    "if char in('a','e','i','o','u'):\n",
    "    print(\"vowels\")\n",
    "else:\n",
    "    print(\"consonent\")"
   ]
  },
  {
   "cell_type": "markdown",
   "id": "add95d8d-60a3-4f0d-b1df-70e0d9347c73",
   "metadata": {},
   "source": [
    "# password checker"
   ]
  },
  {
   "cell_type": "code",
   "execution_count": 18,
   "id": "28814b5a-23db-4a32-888b-11ecb012ba35",
   "metadata": {},
   "outputs": [
    {
     "name": "stdin",
     "output_type": "stream",
     "text": [
      "enter your password 1234\n"
     ]
    },
    {
     "name": "stdout",
     "output_type": "stream",
     "text": [
      "1234 is weak password\n"
     ]
    }
   ],
   "source": [
    "password=input(\"enter your password\")  # password la char  and number kudutha strong password nu print agum\n",
    "if(len(password)<=8):\n",
    "    print(f\"{password} is weak password\")\n",
    "elif(len(password)>9):\n",
    "    print(f\"{password} is strong password\")"
   ]
  },
  {
   "cell_type": "code",
   "execution_count": 21,
   "id": "3f4d27e9-22b1-449b-abe8-a91c7b725bd6",
   "metadata": {},
   "outputs": [
    {
     "name": "stdin",
     "output_type": "stream",
     "text": [
      "enter your password hema@042005\n"
     ]
    },
    {
     "name": "stdout",
     "output_type": "stream",
     "text": [
      "hema@042005 is strong password\n"
     ]
    }
   ],
   "source": [
    "password=input(\"enter your password\")  # password la char  and number kudutha strong password nu print agum\n",
    "if(len(password)<=8):\n",
    "    print(f\"{password} is weak password\")\n",
    "elif(len(password)>9):\n",
    "    print(f\"{password} is strong password\")"
   ]
  },
  {
   "cell_type": "markdown",
   "id": "691d065c-d778-4bcd-be7c-f3fa6d4d48c9",
   "metadata": {},
   "source": [
    "# num call if and elif statement"
   ]
  },
  {
   "cell_type": "code",
   "execution_count": 22,
   "id": "b83bbe1d-89ff-4ed9-be9f-1f4be8a40f95",
   "metadata": {},
   "outputs": [
    {
     "name": "stdin",
     "output_type": "stream",
     "text": [
      "enter any number 12\n",
      "enter any number 45\n",
      "enter any operator(+,-,*,/,:) +\n"
     ]
    },
    {
     "name": "stdout",
     "output_type": "stream",
     "text": [
      "12,45 result is57\n"
     ]
    }
   ],
   "source": [
    "num1=int(input(\"enter any number\"))\n",
    "num2=int (input(\"enter any number\"))\n",
    "op=input(\"enter any operator(+,-,*,/,:)\")\n",
    "if(op=='+'):\n",
    "    print(f\"{num1},{num2} result is{num1+num2}\")\n",
    "elif(op=='-'):\n",
    "     print(f\"{num1},{num2} result is {num1-num2}\")\n",
    "elif(op=='*'):\n",
    "    print(f\"{num1},{num2} result is {num1*num2}\")\n",
    "elif(op=='/'):\n",
    "    print(f\"{num1},{num2} result is {num1/num2}\")\n",
    "elif(op=='%'):\n",
    "    print(f\"{num1},{num2} result is{num1%num2}\")\n",
    "else:\n",
    "    print(\"invaild opertor,pls select valid operator\") # last ta + ku pathila &op kudutha invalid op varum"
   ]
  },
  {
   "cell_type": "code",
   "execution_count": 23,
   "id": "65cf8cf0-9a2b-457b-8e7b-531bbc2deb79",
   "metadata": {},
   "outputs": [
    {
     "name": "stdin",
     "output_type": "stream",
     "text": [
      "enter any number 33\n",
      "enter any number 52\n",
      "enter any operator(+,-,*,/,:) $\n"
     ]
    },
    {
     "name": "stdout",
     "output_type": "stream",
     "text": [
      "invaild opertor,pls select valid operator\n"
     ]
    }
   ],
   "source": [
    "num1=int(input(\"enter any number\"))\n",
    "num2=int (input(\"enter any number\"))\n",
    "op=input(\"enter any operator(+,-,*,/,:)\")\n",
    "if(op=='+'):\n",
    "    print(f\"{num1},{num2} result is{num1+num2}\")\n",
    "elif(op=='-'):\n",
    "     print(f\"{num1},{num2} result is {num1-num2}\")\n",
    "elif(op=='*'):\n",
    "    print(f\"{num1},{num2} result is {num1*num2}\")\n",
    "elif(op=='/'):\n",
    "    print(f\"{num1},{num2} result is {num1/num2}\")\n",
    "elif(op=='%'):\n",
    "    print(f\"{num1},{num2} result is{num1%num2}\")\n",
    "else:\n",
    "    print(\"invaild opertor,pls select valid operator\") # last ta + ku pathila &op kudutha invalid op varum"
   ]
  },
  {
   "cell_type": "markdown",
   "id": "0278e453-2f8e-4522-958f-39b96a53805e",
   "metadata": {},
   "source": [
    "# check the triangle is valid or not"
   ]
  },
  {
   "cell_type": "code",
   "execution_count": 25,
   "id": "6f55788a-e2dd-491e-9b13-908681190deb",
   "metadata": {},
   "outputs": [
    {
     "name": "stdin",
     "output_type": "stream",
     "text": [
      "enter any number: 30\n",
      "enter any number: 60\n",
      "enter any number: 90\n"
     ]
    },
    {
     "name": "stdout",
     "output_type": "stream",
     "text": [
      "valid triangle\n"
     ]
    }
   ],
   "source": [
    "angle1=int(input(\"enter any number:\"))\n",
    "angle2=int(input(\"enter any number:\"))\n",
    "angle3=int(input(\"enter any number:\"))\n",
    "if(angle1+angle2+angle3==180):\n",
    "    print(\"valid triangle\")\n",
    "else:\n",
    "    print(\"invalid triangle\")"
   ]
  },
  {
   "cell_type": "code",
   "execution_count": 26,
   "id": "cdf16157-80d4-47aa-a0ab-41075e4d5743",
   "metadata": {},
   "outputs": [
    {
     "name": "stdin",
     "output_type": "stream",
     "text": [
      "enter any number: 4\n",
      "enter any number: 9\n",
      "enter any number: 6\n"
     ]
    },
    {
     "name": "stdout",
     "output_type": "stream",
     "text": [
      "invalid triangle\n"
     ]
    }
   ],
   "source": [
    "angle1=int(input(\"enter any number:\"))\n",
    "angle2=int(input(\"enter any number:\"))\n",
    "angle3=int(input(\"enter any number:\"))\n",
    "if(angle1+angle2+angle3==180):\n",
    "    print(\"valid triangle\")\n",
    "else:\n",
    "    print(\"invalid triangle\")"
   ]
  },
  {
   "cell_type": "code",
   "execution_count": null,
   "id": "4c253492-e8a4-4023-8ca8-6831f862a7f9",
   "metadata": {},
   "outputs": [],
   "source": []
  }
 ],
 "metadata": {
  "kernelspec": {
   "display_name": "Python [conda env:base] *",
   "language": "python",
   "name": "conda-base-py"
  },
  "language_info": {
   "codemirror_mode": {
    "name": "ipython",
    "version": 3
   },
   "file_extension": ".py",
   "mimetype": "text/x-python",
   "name": "python",
   "nbconvert_exporter": "python",
   "pygments_lexer": "ipython3",
   "version": "3.13.5"
  }
 },
 "nbformat": 4,
 "nbformat_minor": 5
}
