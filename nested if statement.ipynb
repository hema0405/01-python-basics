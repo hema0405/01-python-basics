{
 "cells": [
  {
   "cell_type": "markdown",
   "id": "29b87800-ca5e-42d5-bf4d-ddb7bc2b09c8",
   "metadata": {},
   "source": [
    "# nested if statement"
   ]
  },
  {
   "cell_type": "code",
   "execution_count": 4,
   "id": "78aea742-a34f-4840-9fe4-768da4aec27d",
   "metadata": {},
   "outputs": [
    {
     "name": "stdin",
     "output_type": "stream",
     "text": [
      "enter your year: 400\n"
     ]
    },
    {
     "name": "stdout",
     "output_type": "stream",
     "text": [
      "400 leap year is divisible by 4,100,400\n"
     ]
    }
   ],
   "source": [
    "year=int(input(\"enter your year:\"))\n",
    "if(year%4==0):\n",
    "    if(year%100==0):\n",
    "        if(year%400==0):\n",
    "            print(f\"{year} leap year is divisible by 4,100,400\")\n",
    "        else:\n",
    "            print(f\"{year}non leap year is divisible 4,100,400 not by 400\")\n",
    "    else:\n",
    "        print(f\"{year} leap year divisible by 4,100,400\")\n",
    "else:\n",
    "    print(f\"{year} non leap year not divisible by 4\")"
   ]
  },
  {
   "cell_type": "markdown",
   "id": "bd9835e1-0792-479c-b310-c83df32a8db1",
   "metadata": {},
   "source": [
    "# atm machine "
   ]
  },
  {
   "cell_type": "code",
   "execution_count": 12,
   "id": "16c761b1-2bc5-4d01-9ae4-dd6e1c9d548e",
   "metadata": {},
   "outputs": [
    {
     "name": "stdout",
     "output_type": "stream",
     "text": [
      "welcome to the SBI atm\n"
     ]
    },
    {
     "name": "stdin",
     "output_type": "stream",
     "text": [
      "select the following statement(withdraw(press W),balance enquiry(press b),statement check(press s)) W\n"
     ]
    },
    {
     "name": "stdout",
     "output_type": "stream",
     "text": [
      "you are selected withdraw option\n"
     ]
    },
    {
     "name": "stdin",
     "output_type": "stream",
     "text": [
      "please select your account type(current(press c),savings(press S)): S\n"
     ]
    },
    {
     "name": "stdout",
     "output_type": "stream",
     "text": [
      "you are selected savings account\n"
     ]
    },
    {
     "name": "stdin",
     "output_type": "stream",
     "text": [
      "enter your withdraw amount: 3000\n",
      "enter your four digit pin number: 5555\n"
     ]
    },
    {
     "name": "stdout",
     "output_type": "stream",
     "text": [
      "your pin number is valid\n",
      "you have succesfully withdraw your amount the balance amount inyour account is:3000\n"
     ]
    }
   ],
   "source": [
    "print(\"welcome to the SBI atm\" )\n",
    "\n",
    "    print(\"you are selected withdraw option\")\n",
    "    check_1 = input(\"please select your account type(current(press c),savings(press S)):\").upper()\n",
    "    if check_1 == 'S':\n",
    "        pin=5555\n",
    "        amount=6000\n",
    "        print(\"you are selected savings account\")\n",
    "        Amount=int(input(\"enter your withdraw amount:\"))\n",
    "        pin=int(input(\"enter your four digit pin number:\"))\n",
    "        if pin==pin:\n",
    "            print(\"your pin number is valid\")\n",
    "            if Amount>amount:\n",
    "                print(f\"suffient balance your have {amount}\")\n",
    "            else:\n",
    "                print(f\"you have succesfully withdraw your amount the balance amount inyour account is:{amount -Amount}\")\n",
    "        else:\n",
    "            print(f\"{pin} your pin number is invalid\")\n",
    "\n"
   ]
  },
  {
   "cell_type": "code",
   "execution_count": 8,
   "id": "48b5fb5c-3358-4472-9a1e-0e59219a6736",
   "metadata": {},
   "outputs": [
    {
     "name": "stdout",
     "output_type": "stream",
     "text": [
      "welcome to the loan office\n"
     ]
    },
    {
     "name": "stdin",
     "output_type": "stream",
     "text": [
      "select the following statement(withdraw(press W),balance enquiry(press b),statement check(press s)) w\n"
     ]
    },
    {
     "name": "stdout",
     "output_type": "stream",
     "text": [
      "your selected withdraw option\n"
     ]
    },
    {
     "name": "stdin",
     "output_type": "stream",
     "text": [
      "you are selected(savings account(press s)) (current account(press c)) c\n"
     ]
    },
    {
     "name": "stdout",
     "output_type": "stream",
     "text": [
      "you selected currect account\n"
     ]
    },
    {
     "name": "stdin",
     "output_type": "stream",
     "text": [
      "please select your account type (yes(press y))or(no (press n)) y\n"
     ]
    },
    {
     "name": "stdout",
     "output_type": "stream",
     "text": [
      "your selected yes option\n"
     ]
    },
    {
     "name": "stdin",
     "output_type": "stream",
     "text": [
      "enter your age: 26\n"
     ]
    },
    {
     "name": "stdout",
     "output_type": "stream",
     "text": [
      "eligible for loan\n"
     ]
    },
    {
     "name": "stdin",
     "output_type": "stream",
     "text": [
      "enter your salary: 750000\n"
     ]
    },
    {
     "name": "stdout",
     "output_type": "stream",
     "text": [
      "you are eligible for loan\n"
     ]
    }
   ],
   "source": [
    "print(\"welcome to the loan office\")\n",
    "check=input(\"select the following statement(withdraw(press W),balance enquiry(press b),statement check(press s))\").upper()\n",
    "if check == 'W':\n",
    "    print(\"your selected withdraw option\")\n",
    "    check_1 = input(\"you are selected(savings account(press s)) (current account(press c))\").upper()\n",
    "    if check_1 == 'C':\n",
    "        print(\"you selected currect account\")\n",
    "        check_2=input(\"please select your account type (yes(press y))or(no (press n))\").upper()\n",
    "        if check_2 == 'Y':\n",
    "            print(\"your selected yes option\")\n",
    "            age=int(input(\"enter your age:\"))\n",
    "            if age>=25:\n",
    "                print(\"eligible for loan\")\n",
    "                salary=int(input(\"enter your salary:\"))\n",
    "                if salary>=600000:\n",
    "                   print(\"you are eligible for loan\")\n",
    "                else:\n",
    "                   print(\"not eligible for loan\")\n",
    "            else:\n",
    "                print(\"your not eligible\")\n",
    "        elif check_2 == 'N':\n",
    "               print(\"thank you\")   "
   ]
  },
  {
   "cell_type": "code",
   "execution_count": 21,
   "id": "12e44ba4-ec13-4387-bb60-59127e65a5cd",
   "metadata": {},
   "outputs": [
    {
     "name": "stdout",
     "output_type": "stream",
     "text": [
      "welcome to the company\n"
     ]
    },
    {
     "name": "stdin",
     "output_type": "stream",
     "text": [
      "please  select your job(it (press I)),(non it(press N)),(data entry(press D)) i\n"
     ]
    },
    {
     "name": "stdout",
     "output_type": "stream",
     "text": [
      "your selected for it job option\n"
     ]
    },
    {
     "name": "stdin",
     "output_type": "stream",
     "text": [
      "you are selected (coding skill(press c)) or (no coding skill(press n)) c\n"
     ]
    },
    {
     "name": "stdout",
     "output_type": "stream",
     "text": [
      "your selected coding skill\n"
     ]
    },
    {
     "name": "stdin",
     "output_type": "stream",
     "text": [
      "your selected for (yes (press y))or (no (press n)) y\n"
     ]
    },
    {
     "name": "stdout",
     "output_type": "stream",
     "text": [
      "your selected yes option\n"
     ]
    },
    {
     "name": "stdin",
     "output_type": "stream",
     "text": [
      "enter your year: 2025\n"
     ]
    },
    {
     "name": "stdout",
     "output_type": "stream",
     "text": [
      "selected for this job\n"
     ]
    },
    {
     "name": "stdin",
     "output_type": "stream",
     "text": [
      "enter your salary: 26000\n"
     ]
    },
    {
     "name": "stdout",
     "output_type": "stream",
     "text": [
      " select for this job\n"
     ]
    }
   ],
   "source": [
    "print(\"welcome to the company\")\n",
    "check=input(\"please  select your job(it (press I)),(non it(press N)),(data entry(press D))\").upper()\n",
    "if check == 'I':\n",
    "    print(\"your selected for it job option\")\n",
    "    check_1=input(\"you are selected (coding skill(press c)) or (no coding skill(press n))\").upper()\n",
    "    if check_1 == 'C':\n",
    "        print(\"your selected coding skill\")\n",
    "        check_2 =input(\"your selected for (yes (press y))or (no (press n))\").upper()\n",
    "        if check_2 == 'Y':\n",
    "            print(\"your selected yes option\")\n",
    "            year=int(input(\"enter your year:\"))\n",
    "            if year>=2020:\n",
    "                print(\"selected for this job\")\n",
    "                salary=int(input(\"enter your salary:\"))\n",
    "                if salary>=25000:\n",
    "                    print(\" select for this job\")\n",
    "                else:\n",
    "                    print(\"not select for this job\")\n",
    "            else:\n",
    "                print(\"not select for this job\")\n",
    "        elif check_2 == 'N':\n",
    "               print(\"not selected for this job\")                                                                                                                                                                                                                                                                                                                \n",
    "        \n",
    "\n",
    "           "
   ]
  },
  {
   "cell_type": "code",
   "execution_count": null,
   "id": "4e758846-ad5f-46eb-a701-125dd4c5898c",
   "metadata": {},
   "outputs": [],
   "source": []
  }
 ],
 "metadata": {
  "kernelspec": {
   "display_name": "Python [conda env:base] *",
   "language": "python",
   "name": "conda-base-py"
  },
  "language_info": {
   "codemirror_mode": {
    "name": "ipython",
    "version": 3
   },
   "file_extension": ".py",
   "mimetype": "text/x-python",
   "name": "python",
   "nbconvert_exporter": "python",
   "pygments_lexer": "ipython3",
   "version": "3.13.5"
  }
 },
 "nbformat": 4,
 "nbformat_minor": 5
}
