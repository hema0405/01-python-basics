{
 "cells": [
  {
   "cell_type": "markdown",
   "id": "7ee3e20e-2c9e-4740-b94d-07fcb85a5045",
   "metadata": {},
   "source": [
    "# ## 1. Syntax and Semantics\n",
    "\n",
    "**Question 1:** Write a Python program to print \"Hello, World!\"."
   ]
  },
  {
   "cell_type": "code",
   "execution_count": 1,
   "id": "41e6b5a5-9137-4183-8411-741427892a1c",
   "metadata": {},
   "outputs": [
    {
     "name": "stdout",
     "output_type": "stream",
     "text": [
      "hello world!\n"
     ]
    }
   ],
   "source": [
    "print(f\"hello world!\")"
   ]
  },
  {
   "cell_type": "code",
   "execution_count": 2,
   "id": "d111d904-85f6-4ccd-8806-119d4138d910",
   "metadata": {},
   "outputs": [
    {
     "name": "stdout",
     "output_type": "stream",
     "text": [
      "hello world!\n"
     ]
    }
   ],
   "source": [
    "print(\"hello world!\") #question kana answer"
   ]
  },
  {
   "cell_type": "markdown",
   "id": "3ad0f24b-1e5c-4d41-ae0d-40810e16db5e",
   "metadata": {},
   "source": [
    "### **Question 2:** Write a Python program that takes a user input and prints it."
   ]
  },
  {
   "cell_type": "code",
   "execution_count": 3,
   "id": "f708339f-5828-4e56-baca-a3c0e7b214c1",
   "metadata": {},
   "outputs": [
    {
     "name": "stdin",
     "output_type": "stream",
     "text": [
      " 35\n"
     ]
    },
    {
     "name": "stdout",
     "output_type": "stream",
     "text": [
      "35\n"
     ]
    }
   ],
   "source": [
    "user=input()\n",
    "print(user)"
   ]
  },
  {
   "cell_type": "markdown",
   "id": "1883847b-1979-4e11-b445-69d6823b04b6",
   "metadata": {},
   "source": [
    "### **Question 3:** Write a Python program to check if a number is positive, negative, or zero."
   ]
  },
  {
   "cell_type": "code",
   "execution_count": null,
   "id": "ec9632f1-de4a-437c-b960-a830250ad1d4",
   "metadata": {},
   "outputs": [],
   "source": [
    "number=int(input(\"enter your number:\"))\n",
    "if number>0:\n",
    "    print(\"your number is positive\")\n",
    "elif number<0:\n",
    "       print(\"your number is negative\")\n",
    "else :\n",
    "    print(\"your entered is 0\")\n"
   ]
  },
  {
   "cell_type": "markdown",
   "id": "e874fce6-ca09-466f-adbb-71f68d7b506e",
   "metadata": {},
   "source": [
    "### **Question 4:** Write a Python program to find the largest of three numbers."
   ]
  },
  {
   "cell_type": "code",
   "execution_count": 2,
   "id": "b323081a-58d3-4d75-a061-ad93c6391b20",
   "metadata": {},
   "outputs": [
    {
     "name": "stdin",
     "output_type": "stream",
     "text": [
      "enter your number: 56\n",
      "enter your number: 67\n",
      "enter your number: 44\n"
     ]
    },
    {
     "name": "stdout",
     "output_type": "stream",
     "text": [
      "b is the largest number\n"
     ]
    }
   ],
   "source": [
    "a=int(input(\"enter your number:\"))\n",
    "b=int(input(\"enter your number:\"))\n",
    "c=int(input(\"enter your number:\"))\n",
    "if a>b and a>c:\n",
    "    print(\"a is the largest number\")\n",
    "elif b>a and b>c:\n",
    "    print(\"b is the largest number\")\n",
    "elif c>a and c>b:\n",
    "    print(\"c is the largest number\")"
   ]
  },
  {
   "cell_type": "markdown",
   "id": "7a3d391b-86c7-4d75-b1dc-2ff04bf34377",
   "metadata": {},
   "source": [
    "### **Question 5:** Write a Python program to calculate the factorial of a number."
   ]
  },
  {
   "cell_type": "code",
   "execution_count": 1,
   "id": "10d5366e-4712-4d2a-977c-557a32f7d519",
   "metadata": {},
   "outputs": [
    {
     "name": "stdin",
     "output_type": "stream",
     "text": [
      "Enter the number:  4\n"
     ]
    },
    {
     "name": "stdout",
     "output_type": "stream",
     "text": [
      "4 = 24\n"
     ]
    }
   ],
   "source": [
    "number = int(input(\"Enter the number: \"))\n",
    "count = 1\n",
    "for i in range(1, number+1):\n",
    "    count = count*i\n",
    "\n",
    "print(f\"{number} = {count}\")\n",
    "\n",
    "    "
   ]
  },
  {
   "cell_type": "markdown",
   "id": "c2a38baa-de96-40d4-aa79-61264323405d",
   "metadata": {},
   "source": [
    "## 2. Variables and Data Types\n"
   ]
  },
  {
   "cell_type": "markdown",
   "id": "ef046322-0b8c-4d55-8ff8-a8e1a39afc0e",
   "metadata": {},
   "source": [
    "### **Question 6:** Create variables of different data types: integer, float, string, and boolean. Print their values and types."
   ]
  },
  {
   "cell_type": "code",
   "execution_count": 3,
   "id": "6f8038d1-7a1c-4e3d-bd5a-9c197291e5c3",
   "metadata": {},
   "outputs": [
    {
     "name": "stdout",
     "output_type": "stream",
     "text": [
      "6 <class 'int'>\n",
      "10.5 <class 'float'>\n",
      "hema <class 'str'>\n",
      "True <class 'bool'>\n"
     ]
    }
   ],
   "source": [
    "number_int=6\n",
    "number_float=10.5\n",
    "number_str=\"hema\"\n",
    "number_bool=True\n",
    "print(f\"{number_int}\",type(number))\n",
    "print(f\"{number_float}\",type(number_float))\n",
    "print(f\"{number_str}\",type(number_str))\n",
    "print(f\"{number_bool}\",type(number_bool))"
   ]
  },
  {
   "cell_type": "code",
   "execution_count": null,
   "id": "26ae4572-fdc9-4bce-8eaa-c0370c14c624",
   "metadata": {},
   "outputs": [],
   "source": [
    "### **Question 7:** Write a Python program to swap the values of two variables."
   ]
  },
  {
   "cell_type": "code",
   "execution_count": 13,
   "id": "3c2e43f6-e8b6-45df-8d1e-855e747dcad3",
   "metadata": {},
   "outputs": [
    {
     "name": "stdout",
     "output_type": "stream",
     "text": [
      "hema\n",
      "2005\n",
      "2005\n",
      "hema\n"
     ]
    }
   ],
   "source": [
    "num1=\"hema\"\n",
    "num2=2005\n",
    "print(num1)\n",
    "print(num2)\n",
    "swap=num1\n",
    "num1=num2\n",
    "num2=swap\n",
    "print(num1)\n",
    "print(num2)"
   ]
  },
  {
   "cell_type": "code",
   "execution_count": 8,
   "id": "dba332bb-1234-4e68-a7bc-17adfadbb13a",
   "metadata": {},
   "outputs": [
    {
     "name": "stdout",
     "output_type": "stream",
     "text": [
      "hema\n",
      "2005\n",
      "2005\n",
      "hema\n"
     ]
    }
   ],
   "source": [
    "num1=\"hema\"\n",
    "num2=2005\n",
    "print(num1)\n",
    "print(num2)\n",
    "num1=2005\n",
    "num2=\"hema\"\n",
    "print(num1)\n",
    "print(num2)"
   ]
  },
  {
   "cell_type": "code",
   "execution_count": 12,
   "id": "91c1dcc0-3c21-497a-9f09-847c7e2281ea",
   "metadata": {},
   "outputs": [
    {
     "name": "stdout",
     "output_type": "stream",
     "text": [
      "2005 \n",
      " hema\n",
      "hema \n",
      " 2005\n"
     ]
    }
   ],
   "source": [
    "num1=\"hema\"\n",
    "num2=2005\n",
    "num1=2005\n",
    "num2=\"hema\"\n",
    "print(f\"{num1} \\n {num2}\")\n",
    "print(f\"{num2} \\n {num1}\")\n"
   ]
  },
  {
   "cell_type": "code",
   "execution_count": 26,
   "id": "1b14a3a9-2b12-47b9-89f9-e9b2745159d6",
   "metadata": {},
   "outputs": [
    {
     "name": "stdin",
     "output_type": "stream",
     "text": [
      "enter your number: 5\n",
      "enter your number: 6\n"
     ]
    },
    {
     "name": "stdout",
     "output_type": "stream",
     "text": [
      "before swap:a=5 b=6\n",
      "after swap:b=6 and a=5\n"
     ]
    }
   ],
   "source": [
    "a=int(input(\"enter your number:\"))\n",
    "b=int(input(\"enter your number:\"))\n",
    "print(f\"before swap:a={a} b={b}\")\n",
    "print(f\"after swap:b={b} and a={a}\")"
   ]
  },
  {
   "cell_type": "markdown",
   "id": "30ecc856-de28-4465-90cd-6216f9fb5afe",
   "metadata": {},
   "source": [
    "### **Question 8:** Write a Python program to convert Celsius to Fahrenheit."
   ]
  },
  {
   "cell_type": "code",
   "execution_count": 28,
   "id": "355e23ef-8387-48b5-af3e-a95765ca89e0",
   "metadata": {},
   "outputs": [
    {
     "name": "stdin",
     "output_type": "stream",
     "text": [
      "enter your celsius: 34.9\n"
     ]
    },
    {
     "name": "stdout",
     "output_type": "stream",
     "text": [
      "34.9c,94.82f\n"
     ]
    }
   ],
   "source": [
    "celsius=float(input(\"enter your celsius:\"))\n",
    "fah=(celsius*9/5)+32\n",
    "print(f\"{celsius}c,{fah}f\")"
   ]
  },
  {
   "cell_type": "markdown",
   "id": "f566de39-d5bc-4208-8dfd-7e27b6fd96ff",
   "metadata": {},
   "source": [
    "### **Question 9:** Write a Python program to concatenate two strings."
   ]
  },
  {
   "cell_type": "code",
   "execution_count": 4,
   "id": "221f09d2-ad21-47bf-83e7-57754df33686",
   "metadata": {},
   "outputs": [
    {
     "name": "stdin",
     "output_type": "stream",
     "text": [
      "enter your string: hello\n",
      "enter your string: world\n"
     ]
    },
    {
     "name": "stdout",
     "output_type": "stream",
     "text": [
      "hello   world\n"
     ]
    }
   ],
   "source": [
    "str1=str(input(\"enter your string:\"))\n",
    "str2=str(input(\"enter your string:\"))\n",
    "print(str1,\" \",str2)"
   ]
  },
  {
   "cell_type": "markdown",
   "id": "7bddd6f0-cc0f-4d56-9dd6-0a7aee9c1895",
   "metadata": {},
   "source": [
    "###  **Question 10:** Write a Python program to check if a variable is of a specific data type."
   ]
  },
  {
   "cell_type": "code",
   "execution_count": 13,
   "id": "70c75aff-3cdc-4b50-8891-2c5584e8e320",
   "metadata": {},
   "outputs": [
    {
     "name": "stdout",
     "output_type": "stream",
     "text": [
      "hema  value is string\n"
     ]
    }
   ],
   "source": [
    "a=\"hema\"\n",
    "if isinstance( a,str):\n",
    "    print(f\"{a}  value is string\")\n",
    "else:\n",
    "    print(f\"{a} value is not a string\")"
   ]
  },
  {
   "cell_type": "markdown",
   "id": "477bffbb-bd64-4736-819c-35f86f2e3dd2",
   "metadata": {},
   "source": [
    "# 3. Basic Operators (Arithmetic, Comparison, Logical)"
   ]
  },
  {
   "cell_type": "markdown",
   "id": "85ec1ecd-5ab9-4b9e-91b6-9b01b1af3076",
   "metadata": {},
   "source": [
    "### **Question 11:** Write a Python program to perform arithmetic operations: addition, subtraction, multiplication, and division."
   ]
  },
  {
   "cell_type": "code",
   "execution_count": 15,
   "id": "f84cf364-41fe-466d-82c7-cad73b53b02d",
   "metadata": {},
   "outputs": [
    {
     "name": "stdin",
     "output_type": "stream",
     "text": [
      "enter your number: 10\n",
      "enter your number: 5\n"
     ]
    },
    {
     "name": "stdout",
     "output_type": "stream",
     "text": [
      "15,5,50,2.0\n"
     ]
    }
   ],
   "source": [
    "a=int(input(\"enter your number:\"))\n",
    "b=int(input(\"enter your number:\"))\n",
    "print(f\"{a+b},{a-b},{a*b},{a/b}\")\n"
   ]
  },
  {
   "cell_type": "markdown",
   "id": "40a18085-0e99-4cc5-85a2-b52a1e62a9bc",
   "metadata": {},
   "source": [
    "### **Question 12:** Write a Python program to demonstrate comparison operators: equal to, not equal to, greater than, less than."
   ]
  },
  {
   "cell_type": "code",
   "execution_count": 24,
   "id": "680a5dcb-0818-4f42-b90d-857f7bffdb31",
   "metadata": {},
   "outputs": [
    {
     "name": "stdout",
     "output_type": "stream",
     "text": [
      "False False True True\n"
     ]
    }
   ],
   "source": [
    "a=10\n",
    "b=20\n",
    "print(f\"{a==b} {a>=b} {a<=b} {a!=b}\")"
   ]
  },
  {
   "cell_type": "markdown",
   "id": "70517aa2-7559-4423-8882-c60d479467dc",
   "metadata": {},
   "source": [
    "### **Question 13:** Write a Python program to demonstrate logical operators: and, or, not."
   ]
  },
  {
   "cell_type": "code",
   "execution_count": 26,
   "id": "35889d8b-449d-4e6d-85e3-85bbcf613dcc",
   "metadata": {},
   "outputs": [
    {
     "name": "stdin",
     "output_type": "stream",
     "text": [
      "enter your number: 10\n",
      "enter your number: 20\n"
     ]
    },
    {
     "name": "stdout",
     "output_type": "stream",
     "text": [
      "20 \n",
      " 10 \n",
      " False\n"
     ]
    }
   ],
   "source": [
    "a=int(input(\"enter your number:\"))\n",
    "b=int(input(\"enter your number:\"))\n",
    "print(f\"{a and b} \\n {a or b} \\n {not a}\")"
   ]
  },
  {
   "cell_type": "markdown",
   "id": "8fe27db4-5526-41f0-8ca8-3d283d61c3c3",
   "metadata": {},
   "source": [
    " ### **Question 14:** Write a Python program to calculate the square of a number."
   ]
  },
  {
   "cell_type": "code",
   "execution_count": 41,
   "id": "800f6b20-406f-4521-962d-7fc446faf00e",
   "metadata": {},
   "outputs": [
    {
     "name": "stdin",
     "output_type": "stream",
     "text": [
      "enter your number: 4\n"
     ]
    },
    {
     "name": "stdout",
     "output_type": "stream",
     "text": [
      "the square 4 is 16\n"
     ]
    }
   ],
   "source": [
    "a=int(input(\"enter your number:\"))\n",
    "sq=a**2\n",
    "print(f\"the square {a} is {sq}\")"
   ]
  },
  {
   "cell_type": "markdown",
   "id": "e3c7ce76-ce1e-49ca-86ac-ad742f05980d",
   "metadata": {},
   "source": [
    "### **Question 15:** Write a Python program to check if a number is even or odd."
   ]
  },
  {
   "cell_type": "code",
   "execution_count": 47,
   "id": "18c55e1e-ad96-4f5f-896c-fd575f109e79",
   "metadata": {},
   "outputs": [
    {
     "name": "stdin",
     "output_type": "stream",
     "text": [
      " 33\n"
     ]
    },
    {
     "name": "stdout",
     "output_type": "stream",
     "text": [
      "odd\n"
     ]
    }
   ],
   "source": [
    "num=int(input())\n",
    "if (num%2==0):\n",
    "    print(\"even\")\n",
    "elif(num%2!=0):\n",
    "    print(\"odd\")"
   ]
  },
  {
   "cell_type": "code",
   "execution_count": 48,
   "id": "c369ca44-aa9e-4f07-9f64-a8bc95b3cc62",
   "metadata": {},
   "outputs": [
    {
     "name": "stdin",
     "output_type": "stream",
     "text": [
      " 44\n"
     ]
    },
    {
     "name": "stdout",
     "output_type": "stream",
     "text": [
      "even\n"
     ]
    }
   ],
   "source": [
    "num=int(input())\n",
    "if (num%2==0):\n",
    "    print(\"even\")\n",
    "elif(num%2!=0):\n",
    "    print(\"odd\")"
   ]
  },
  {
   "cell_type": "markdown",
   "id": "8bfb0b44-68ab-4056-b4ac-7cbd412e7b7a",
   "metadata": {},
   "source": [
    "### **Question 16:** Write a Python program to find the sum of the first n natural numbers"
   ]
  },
  {
   "cell_type": "code",
   "execution_count": 56,
   "id": "dfd45591-e852-441e-98c9-a446a60e7789",
   "metadata": {},
   "outputs": [
    {
     "name": "stdout",
     "output_type": "stream",
     "text": [
      "21\n"
     ]
    }
   ],
   "source": [
    "count=0\n",
    "for i in range(1,7):\n",
    "    count=count+i\n",
    "print(count)"
   ]
  },
  {
   "cell_type": "code",
   "execution_count": 14,
   "id": "e18fcfb0-f0bf-4d1f-9180-83bcee799796",
   "metadata": {},
   "outputs": [
    {
     "name": "stdout",
     "output_type": "stream",
     "text": [
      "6 21\n"
     ]
    }
   ],
   "source": [
    "count=0\n",
    "for i in range(1,7):\n",
    "    count=count+i\n",
    "print(f\"{i} {count}\")"
   ]
  },
  {
   "cell_type": "code",
   "execution_count": 60,
   "id": "48c76b46-1f21-4b2c-b39a-bef1e9d1a54c",
   "metadata": {},
   "outputs": [
    {
     "name": "stdout",
     "output_type": "stream",
     "text": [
      "1 1\n",
      "2 3\n",
      "3 6\n",
      "4 10\n",
      "5 15\n",
      "6 21\n"
     ]
    }
   ],
   "source": [
    "count=0\n",
    "for i in range(1,7):\n",
    "    count=count+i\n",
    "    print(f\"{i} {count}\")"
   ]
  },
  {
   "cell_type": "markdown",
   "id": "b8487b5d-395d-45f6-86f0-d51fbf8c4aee",
   "metadata": {},
   "source": [
    "### **Question 17:** Write a Python program to check if a year is a leap year."
   ]
  },
  {
   "cell_type": "code",
   "execution_count": 20,
   "id": "f6500357-97af-4652-bbd2-3bdff22672fa",
   "metadata": {},
   "outputs": [
    {
     "name": "stdin",
     "output_type": "stream",
     "text": [
      "enter the year: 2024\n"
     ]
    },
    {
     "name": "stdout",
     "output_type": "stream",
     "text": [
      "2024 leap year\n"
     ]
    }
   ],
   "source": [
    "year=int(input(\"enter the year:\"))\n",
    "if ( year%4==0 and year%100!=0) or (year%400 == 0):\n",
    "    print(f\"{year} leap year\")\n",
    "else:\n",
    "    print(f\" {year}  not leap year\")\n"
   ]
  },
  {
   "cell_type": "code",
   "execution_count": 21,
   "id": "854958a8-c93f-43a8-8171-c287868d42cb",
   "metadata": {},
   "outputs": [
    {
     "name": "stdin",
     "output_type": "stream",
     "text": [
      "enter the year: 2025\n"
     ]
    },
    {
     "name": "stdout",
     "output_type": "stream",
     "text": [
      " 2025  not leap year\n"
     ]
    }
   ],
   "source": [
    "year=int(input(\"enter the year:\"))\n",
    "if ( year%4==0 and year%100!=0) or (year%400 == 0):\n",
    "    print(f\"{year} leap year\")\n",
    "else:\n",
    "    print(f\" {year}  not leap year\")"
   ]
  },
  {
   "cell_type": "markdown",
   "id": "f324a61b-428c-401f-9bb5-32510c3ad455",
   "metadata": {},
   "source": [
    "### **Question 18:** Write a Python program to reverse a string."
   ]
  },
  {
   "cell_type": "code",
   "execution_count": 22,
   "id": "d47b352e-aaa1-4778-91fe-e18e8e4171a0",
   "metadata": {},
   "outputs": [
    {
     "name": "stdout",
     "output_type": "stream",
     "text": [
      "hema is ameh\n"
     ]
    }
   ],
   "source": [
    "string=(\"hema\")\n",
    "reverse_str=string[::-1]\n",
    "print(f\"{string} is {reverse_str}\")"
   ]
  },
  {
   "cell_type": "markdown",
   "id": "95014eb6-f931-4371-a62a-a162be747aab",
   "metadata": {},
   "source": [
    "### **Question 19:** Write a Python program to check if a string is a palindrome."
   ]
  },
  {
   "cell_type": "code",
   "execution_count": 26,
   "id": "785de5d0-4175-4cf6-bb01-a86363e8e6c1",
   "metadata": {},
   "outputs": [
    {
     "name": "stdin",
     "output_type": "stream",
     "text": [
      "enter the str: hema\n"
     ]
    },
    {
     "name": "stdout",
     "output_type": "stream",
     "text": [
      "hema  ameh is not apalindrome\n"
     ]
    }
   ],
   "source": [
    "word=str(input(\"enter the str:\")).lower()\n",
    "reverse_word=word[::-1]\n",
    "if(word == reverse_word):\n",
    "  print(f\"{word} {reverse_word} is the palindrome\")\n",
    "else:\n",
    "  print(f\"{word}  {reverse_word} is not apalindrome\")"
   ]
  },
  {
   "cell_type": "code",
   "execution_count": 28,
   "id": "b7288677-0b29-4f0d-bce3-9f6dca87e649",
   "metadata": {},
   "outputs": [
    {
     "name": "stdin",
     "output_type": "stream",
     "text": [
      "enter the str: amma\n"
     ]
    },
    {
     "name": "stdout",
     "output_type": "stream",
     "text": [
      "amma amma is the palindrome\n"
     ]
    }
   ],
   "source": [
    "word=str(input(\"enter the str:\"))\n",
    "reverse_word=word[::-1]\n",
    "if(word == reverse_word):\n",
    "  print(f\"{word} {reverse_word} is the palindrome\")\n",
    "else:\n",
    "  print(f\"{word}  {reverse_word} is not apalindrome\")"
   ]
  },
  {
   "cell_type": "markdown",
   "id": "a8a10707-5e40-49cf-95f4-5c1f99376a95",
   "metadata": {},
   "source": [
    "### **Question 20:** Write a Python program to sort a list of numbers in ascending order."
   ]
  },
  {
   "cell_type": "code",
   "execution_count": 51,
   "id": "09d4026e-b8c7-4ef2-9aac-f85cfed0d76d",
   "metadata": {},
   "outputs": [
    {
     "name": "stdout",
     "output_type": "stream",
     "text": [
      "sorted list assending order: [1, 3, 4, 5, 6, 8, 9]\n"
     ]
    }
   ],
   "source": [
    "number=[3,4,5,6,9,8,1]\n",
    "number.sort()\n",
    "print((f\"sorted list assending order:\"),number)"
   ]
  },
  {
   "cell_type": "code",
   "execution_count": 54,
   "id": "dbfd9792-df71-411e-998a-4b918883de63",
   "metadata": {},
   "outputs": [
    {
     "name": "stdin",
     "output_type": "stream",
     "text": [
      "enter the number: 2,4,6,1,3,5,8,7\n"
     ]
    },
    {
     "ename": "ValueError",
     "evalue": "invalid literal for int() with base 10: '2,4,6,1,3,5,8,7'",
     "output_type": "error",
     "traceback": [
      "\u001b[1;31m---------------------------------------------------------------------------\u001b[0m",
      "\u001b[1;31mValueError\u001b[0m                                Traceback (most recent call last)",
      "Cell \u001b[1;32mIn[54], line 1\u001b[0m\n\u001b[1;32m----> 1\u001b[0m number\u001b[38;5;241m=\u001b[39m\u001b[38;5;28mint\u001b[39m(\u001b[38;5;28minput\u001b[39m(\u001b[38;5;124m\"\u001b[39m\u001b[38;5;124menter the number:\u001b[39m\u001b[38;5;124m\"\u001b[39m))\n\u001b[0;32m      2\u001b[0m number\u001b[38;5;241m.\u001b[39msort()\n\u001b[0;32m      3\u001b[0m \u001b[38;5;28mprint\u001b[39m((\u001b[38;5;124mf\u001b[39m\u001b[38;5;124m\"\u001b[39m\u001b[38;5;124msorted list assending order:\u001b[39m\u001b[38;5;124m\"\u001b[39m),number)\n",
      "\u001b[1;31mValueError\u001b[0m: invalid literal for int() with base 10: '2,4,6,1,3,5,8,7'"
     ]
    }
   ],
   "source": [
    "number=int(input(\"enter the number:\"))\n",
    "number.sort()\n",
    "print((f\"sorted list assending order:\"),number)"
   ]
  },
  {
   "cell_type": "code",
   "execution_count": null,
   "id": "cebfc62a-6985-49e3-997c-60f6cf73abb1",
   "metadata": {},
   "outputs": [],
   "source": []
  }
 ],
 "metadata": {
  "kernelspec": {
   "display_name": "Python [conda env:base] *",
   "language": "python",
   "name": "conda-base-py"
  },
  "language_info": {
   "codemirror_mode": {
    "name": "ipython",
    "version": 3
   },
   "file_extension": ".py",
   "mimetype": "text/x-python",
   "name": "python",
   "nbconvert_exporter": "python",
   "pygments_lexer": "ipython3",
   "version": "3.13.5"
  }
 },
 "nbformat": 4,
 "nbformat_minor": 5
}
