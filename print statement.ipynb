{
 "cells": [
  {
   "cell_type": "markdown",
   "id": "bf62506c-619f-418b-9c8c-8913c439d453",
   "metadata": {},
   "source": [
    "# print statement\n",
    "### string---\"\"\n",
    "### integer---2\n",
    "### float---12.5\n",
    "### boolean--true false"
   ]
  },
  {
   "cell_type": "code",
   "execution_count": 2,
   "id": "923c80b2-32c9-407d-b07e-906c966edeec",
   "metadata": {},
   "outputs": [
    {
     "name": "stdout",
     "output_type": "stream",
     "text": [
      "hello world\n"
     ]
    }
   ],
   "source": [
    "print(\"hello world\")"
   ]
  },
  {
   "cell_type": "code",
   "execution_count": 3,
   "id": "749a6ccf-594c-4042-9933-836086d03e12",
   "metadata": {},
   "outputs": [
    {
     "name": "stdout",
     "output_type": "stream",
     "text": [
      "hema\n"
     ]
    }
   ],
   "source": [
    "print(\"hema\")"
   ]
  },
  {
   "cell_type": "code",
   "execution_count": 4,
   "id": "ca14ecfc-cbfa-4673-990f-324825638776",
   "metadata": {},
   "outputs": [
    {
     "name": "stdout",
     "output_type": "stream",
     "text": [
      "true\n"
     ]
    }
   ],
   "source": [
    "print(\"true\")"
   ]
  },
  {
   "cell_type": "markdown",
   "id": "f7627ace-fe81-457b-b883-3cd4827d828a",
   "metadata": {},
   "source": [
    "# variable"
   ]
  },
  {
   "cell_type": "code",
   "execution_count": 5,
   "id": "9ef03d98-c34d-457c-8839-9682df48f26b",
   "metadata": {},
   "outputs": [
    {
     "name": "stdout",
     "output_type": "stream",
     "text": [
      "5\n"
     ]
    }
   ],
   "source": [
    "a=5\n",
    "print(a)"
   ]
  },
  {
   "cell_type": "code",
   "execution_count": 6,
   "id": "40c0077f-2445-447f-8ed3-26040a03a157",
   "metadata": {},
   "outputs": [
    {
     "name": "stdout",
     "output_type": "stream",
     "text": [
      "hello\n"
     ]
    }
   ],
   "source": [
    "print('hello')"
   ]
  },
  {
   "cell_type": "code",
   "execution_count": 7,
   "id": "ffcc806e-d377-4344-8a4d-837dd4bc82b4",
   "metadata": {},
   "outputs": [
    {
     "name": "stdout",
     "output_type": "stream",
     "text": [
      "5\n"
     ]
    }
   ],
   "source": [
    "a==5\n",
    "print(a)"
   ]
  },
  {
   "cell_type": "code",
   "execution_count": 8,
   "id": "50cca862-6f3c-4309-956d-8d767a058e8f",
   "metadata": {},
   "outputs": [
    {
     "ename": "NameError",
     "evalue": "name 'b' is not defined",
     "output_type": "error",
     "traceback": [
      "\u001b[1;31m---------------------------------------------------------------------------\u001b[0m",
      "\u001b[1;31mNameError\u001b[0m                                 Traceback (most recent call last)",
      "Cell \u001b[1;32mIn[8], line 2\u001b[0m\n\u001b[0;32m      1\u001b[0m a\u001b[38;5;241m==\u001b[39m\u001b[38;5;241m4\u001b[39m\n\u001b[1;32m----> 2\u001b[0m b\u001b[38;5;241m==\u001b[39m\u001b[38;5;241m3\u001b[39m\n\u001b[0;32m      3\u001b[0m b\u001b[38;5;241m==\u001b[39ma\n\u001b[0;32m      4\u001b[0m \u001b[38;5;28mprint\u001b[39m(b)\n",
      "\u001b[1;31mNameError\u001b[0m: name 'b' is not defined"
     ]
    }
   ],
   "source": [
    "a==4\n",
    "b==3\n",
    "b==a\n",
    "print(b)"
   ]
  },
  {
   "cell_type": "code",
   "execution_count": 9,
   "id": "359723e7-6fb7-4f14-9f89-6c3aee9f2f47",
   "metadata": {},
   "outputs": [
    {
     "ename": "NameError",
     "evalue": "name 'b' is not defined",
     "output_type": "error",
     "traceback": [
      "\u001b[1;31m---------------------------------------------------------------------------\u001b[0m",
      "\u001b[1;31mNameError\u001b[0m                                 Traceback (most recent call last)",
      "Cell \u001b[1;32mIn[9], line 3\u001b[0m\n\u001b[0;32m      1\u001b[0m a\u001b[38;5;241m==\u001b[39m\u001b[38;5;241m4\u001b[39m\n\u001b[0;32m      2\u001b[0m \u001b[38;5;241m4\u001b[39m\u001b[38;5;241m==\u001b[39m\u001b[38;5;241m2\u001b[39m\n\u001b[1;32m----> 3\u001b[0m b\u001b[38;5;241m==\u001b[39m\u001b[38;5;241m3\u001b[39m\n\u001b[0;32m      4\u001b[0m \u001b[38;5;28mprint\u001b[39m(a)\n",
      "\u001b[1;31mNameError\u001b[0m: name 'b' is not defined"
     ]
    }
   ],
   "source": [
    "a==4\n",
    "4==2\n",
    "b==3\n",
    "print(a)\n"
   ]
  },
  {
   "cell_type": "code",
   "execution_count": 16,
   "id": "14bed90c-23ec-4f14-922c-f212b8f4b71e",
   "metadata": {},
   "outputs": [
    {
     "name": "stdout",
     "output_type": "stream",
     "text": [
      "4\n"
     ]
    }
   ],
   "source": [
    "a == b\n",
    "a = 4\n",
    "b = 3\n",
    "print(a)\n"
   ]
  },
  {
   "cell_type": "code",
   "execution_count": 17,
   "id": "ce011a71-560a-4b22-87dc-c242825fca83",
   "metadata": {},
   "outputs": [
    {
     "ename": "SyntaxError",
     "evalue": "invalid syntax. Perhaps you forgot a comma? (2497053111.py, line 1)",
     "output_type": "error",
     "traceback": [
      "\u001b[1;36m  Cell \u001b[1;32mIn[17], line 1\u001b[1;36m\u001b[0m\n\u001b[1;33m    print(hello world)\u001b[0m\n\u001b[1;37m          ^\u001b[0m\n\u001b[1;31mSyntaxError\u001b[0m\u001b[1;31m:\u001b[0m invalid syntax. Perhaps you forgot a comma?\n"
     ]
    }
   ],
   "source": [
    "print(hello world)"
   ]
  },
  {
   "cell_type": "code",
   "execution_count": 18,
   "id": "efe95b90-634c-4f1b-844b-bf7dcfe65cc8",
   "metadata": {},
   "outputs": [
    {
     "ename": "SyntaxError",
     "evalue": "Missing parentheses in call to 'print'. Did you mean print(...)? (3346677203.py, line 1)",
     "output_type": "error",
     "traceback": [
      "\u001b[1;36m  Cell \u001b[1;32mIn[18], line 1\u001b[1;36m\u001b[0m\n\u001b[1;33m    print\"hello world\"\u001b[0m\n\u001b[1;37m    ^\u001b[0m\n\u001b[1;31mSyntaxError\u001b[0m\u001b[1;31m:\u001b[0m Missing parentheses in call to 'print'. Did you mean print(...)?\n"
     ]
    }
   ],
   "source": [
    "print\"hello world\""
   ]
  },
  {
   "cell_type": "code",
   "execution_count": 10,
   "id": "b0d98912-995b-4aa7-8281-47a274e63cc4",
   "metadata": {},
   "outputs": [],
   "source": [
    "#task1\n",
    "driver_name=\"raja\" #string\n",
    "pickup_point=\"mudichur\" #string\n",
    "drop_point=\"thambaram\" #string\n",
    "distance=\"6km\" #integer string\n",
    "timing=\"10:30\"  #string\n",
    "fare=250  #integer\n",
    "vechicle=\"auto\"#string\n",
    "status=True  #boolean"
   ]
  },
  {
   "cell_type": "code",
   "execution_count": 15,
   "id": "2c93b277-0f4d-4fc0-be74-032a64c6faee",
   "metadata": {},
   "outputs": [
    {
     "name": "stdout",
     "output_type": "stream",
     "text": [
      "raja\n"
     ]
    }
   ],
   "source": [
    "print(driver_name)"
   ]
  },
  {
   "cell_type": "code",
   "execution_count": 11,
   "id": "e464f139-7430-43bb-9103-342652dd7aed",
   "metadata": {},
   "outputs": [
    {
     "name": "stdout",
     "output_type": "stream",
     "text": [
      "mudichur\n",
      "thambaram\n",
      "6km\n",
      "10:30\n",
      "250\n",
      "auto\n",
      "True\n"
     ]
    }
   ],
   "source": [
    "print(pickup_point)\n",
    "print(drop_point)\n",
    "print(distance)\n",
    "print(timing)\n",
    "print(fare)\n",
    "print(vechicle)\n",
    "print(status)"
   ]
  },
  {
   "cell_type": "code",
   "execution_count": 23,
   "id": "3ee0b10d-64ca-4445-a9b2-d06365363614",
   "metadata": {},
   "outputs": [
    {
     "name": "stdout",
     "output_type": "stream",
     "text": [
      "<class 'str'>\n"
     ]
    }
   ],
   "source": [
    "print(type(pickup_point))"
   ]
  },
  {
   "cell_type": "code",
   "execution_count": 24,
   "id": "441b1508-8d22-47f6-b524-7f5d073ab236",
   "metadata": {},
   "outputs": [
    {
     "name": "stdout",
     "output_type": "stream",
     "text": [
      "<class 'str'>\n"
     ]
    }
   ],
   "source": [
    "print(type(drop_point))"
   ]
  },
  {
   "cell_type": "code",
   "execution_count": 12,
   "id": "84f320f9-9a62-40d6-9d19-676b006a7e86",
   "metadata": {},
   "outputs": [
    {
     "name": "stdout",
     "output_type": "stream",
     "text": [
      "<class 'str'>\n",
      "<class 'str'>\n",
      "<class 'int'>\n",
      "<class 'str'>\n",
      "<class 'bool'>\n"
     ]
    }
   ],
   "source": [
    "print(type(\"6km\"))\n",
    "print(type(\"10:30\"))\n",
    "print(type(250))\n",
    "print(type(\"auto\"))\n",
    "print(type(status))"
   ]
  },
  {
   "cell_type": "code",
   "execution_count": 29,
   "id": "71820360-e96f-4854-ae80-802e16a712af",
   "metadata": {},
   "outputs": [
    {
     "name": "stdout",
     "output_type": "stream",
     "text": [
      "raja\n"
     ]
    }
   ],
   "source": [
    "print(driver_name)"
   ]
  },
  {
   "cell_type": "code",
   "execution_count": 37,
   "id": "957de414-b127-4498-90fc-5ff07d85facf",
   "metadata": {},
   "outputs": [
    {
     "name": "stdout",
     "output_type": "stream",
     "text": [
      "true\n"
     ]
    }
   ],
   "source": [
    "print(status)"
   ]
  },
  {
   "cell_type": "code",
   "execution_count": 1,
   "id": "50aab8cf-d188-4e79-980d-a1e7b44249e2",
   "metadata": {},
   "outputs": [
    {
     "name": "stdout",
     "output_type": "stream",
     "text": [
      "10\n"
     ]
    }
   ],
   "source": [
    "a=5\n",
    "b=5\n",
    "print(a+b)"
   ]
  },
  {
   "cell_type": "code",
   "execution_count": 2,
   "id": "aacb308f-7a92-416d-9877-0d1656d1b24d",
   "metadata": {},
   "outputs": [
    {
     "name": "stdout",
     "output_type": "stream",
     "text": [
      "55\n"
     ]
    }
   ],
   "source": [
    "a=\"5\"\n",
    "b=\"5\"\n",
    "print(a+b) #same answer"
   ]
  },
  {
   "cell_type": "code",
   "execution_count": 4,
   "id": "277e2ee5-e902-4a7e-9edf-1ba62c64ec4e",
   "metadata": {},
   "outputs": [
    {
     "name": "stdout",
     "output_type": "stream",
     "text": [
      "55\n"
     ]
    }
   ],
   "source": [
    "a='5'\n",
    "b='5'\n",
    "print(a+b)# same answer"
   ]
  },
  {
   "cell_type": "code",
   "execution_count": 13,
   "id": "a995aafe-14b3-44a4-b666-da7ff3d3aab9",
   "metadata": {},
   "outputs": [
    {
     "name": "stdout",
     "output_type": "stream",
     "text": [
      "<class 'bool'>\n"
     ]
    }
   ],
   "source": [
    "print(type(status))"
   ]
  },
  {
   "cell_type": "code",
   "execution_count": 16,
   "id": "dfee3d7a-d187-4585-9376-8cf96004e35c",
   "metadata": {},
   "outputs": [
    {
     "name": "stdout",
     "output_type": "stream",
     "text": [
      "welcome to the course hema\n"
     ]
    }
   ],
   "source": [
    "name=\"hema\"\n",
    "print(\"welcome to the course\",name)"
   ]
  },
  {
   "cell_type": "code",
   "execution_count": 17,
   "id": "07e5b951-c109-4054-83da-2f9eabb34ac1",
   "metadata": {},
   "outputs": [
    {
     "name": "stdout",
     "output_type": "stream",
     "text": [
      "welcome to the course 20\n"
     ]
    }
   ],
   "source": [
    "age=20\n",
    "print(\"welcome to the course\",age)"
   ]
  },
  {
   "cell_type": "code",
   "execution_count": 25,
   "id": "c18b6839-7846-4ef7-9905-17fd43440862",
   "metadata": {},
   "outputs": [
    {
     "name": "stdout",
     "output_type": "stream",
     "text": [
      " the name of the student hema the age of the student 20 the student of the college myd\n"
     ]
    }
   ],
   "source": [
    "name=\"hema\"\n",
    "age=20\n",
    "college=\"myd\"\n",
    "print(\" the name of the student\",name,\"the age of the student\",age,\"the student of the college\",college)"
   ]
  },
  {
   "cell_type": "code",
   "execution_count": 27,
   "id": "0f815e4b-ec41-4b8a-83d3-b5c039f17f61",
   "metadata": {},
   "outputs": [
    {
     "name": "stdout",
     "output_type": "stream",
     "text": [
      "the name of the student is hema \n",
      " the age of the student is 20 \n",
      "the student of the college myd\n"
     ]
    }
   ],
   "source": [
    "name=\"hema\"\n",
    "age=20\n",
    "college=\"myd\"\n",
    "print(\"the name of the student is\",name,\"\\n the age of the student is\",age,\"\\nthe student of the college\",college)"
   ]
  },
  {
   "cell_type": "code",
   "execution_count": 24,
   "id": "c176fa5b-355e-4954-aea4-db66fa6fed25",
   "metadata": {},
   "outputs": [
    {
     "name": "stdout",
     "output_type": "stream",
     "text": [
      "the name of the student is hema and the age of the student 20\n"
     ]
    }
   ],
   "source": [
    "print(f\"the name of the student is {name} and the age of the student {age}\")"
   ]
  },
  {
   "cell_type": "code",
   "execution_count": 32,
   "id": "69c7f615-842d-4d39-b25d-e0cc94b4130b",
   "metadata": {},
   "outputs": [
    {
     "name": "stdout",
     "output_type": "stream",
     "text": [
      "the name of the student is rajasri \n",
      " the age of the student 20 \n",
      " the student of the college myd\n"
     ]
    }
   ],
   "source": [
    "print(f\"the name of the student is {name} \\n the age of the student {age} \\n the student of the college {college}\")"
   ]
  },
  {
   "cell_type": "code",
   "execution_count": 28,
   "id": "f92631f2-43de-4df5-873d-8ca3d89d54b3",
   "metadata": {},
   "outputs": [
    {
     "name": "stdout",
     "output_type": "stream",
     "text": [
      "hema\n"
     ]
    }
   ],
   "source": [
    "name=\"hema\"\n",
    "print(name)"
   ]
  },
  {
   "cell_type": "code",
   "execution_count": 29,
   "id": "cb42f394-670b-44d3-931d-8d3e3c173d5a",
   "metadata": {},
   "outputs": [
    {
     "name": "stdin",
     "output_type": "stream",
     "text": [
      " rajasri\n"
     ]
    },
    {
     "name": "stdout",
     "output_type": "stream",
     "text": [
      "rajasri\n"
     ]
    }
   ],
   "source": [
    "name=input()\n",
    "print(name)"
   ]
  },
  {
   "cell_type": "markdown",
   "id": "b71e79f8-b65a-451b-9e7a-b547a194e07f",
   "metadata": {},
   "source": [
    "#  inputs"
   ]
  },
  {
   "cell_type": "code",
   "execution_count": 1,
   "id": "34eccc3a-e55f-411f-82a8-f872bdb51e98",
   "metadata": {},
   "outputs": [
    {
     "name": "stdin",
     "output_type": "stream",
     "text": [
      "enter your name: hema\n"
     ]
    },
    {
     "name": "stdout",
     "output_type": "stream",
     "text": [
      "hema\n"
     ]
    }
   ],
   "source": [
    "name=input(\"enter your name:\")\n",
    "print(name)"
   ]
  },
  {
   "cell_type": "code",
   "execution_count": 2,
   "id": "91a4db15-7b6e-4784-a619-1668b223ce4b",
   "metadata": {},
   "outputs": [
    {
     "name": "stdout",
     "output_type": "stream",
     "text": [
      "<class 'str'>\n"
     ]
    }
   ],
   "source": [
    "print(type(name))"
   ]
  },
  {
   "cell_type": "code",
   "execution_count": 4,
   "id": "910d55d0-8726-485e-bd39-2372b8e4006b",
   "metadata": {},
   "outputs": [
    {
     "name": "stdin",
     "output_type": "stream",
     "text": [
      "enter your number: 34\n"
     ]
    },
    {
     "name": "stdout",
     "output_type": "stream",
     "text": [
      "34\n"
     ]
    }
   ],
   "source": [
    "number=input(\"enter your number:\")\n",
    "print(number)"
   ]
  },
  {
   "cell_type": "code",
   "execution_count": 5,
   "id": "52b65ca8-60e7-4aaa-97f9-f8e8984b83e2",
   "metadata": {},
   "outputs": [
    {
     "name": "stdout",
     "output_type": "stream",
     "text": [
      "<class 'str'>\n"
     ]
    }
   ],
   "source": [
    "print(type(number))"
   ]
  },
  {
   "cell_type": "code",
   "execution_count": 6,
   "id": "eddcb619-4e51-4fe7-b748-9c1aef0ebff2",
   "metadata": {},
   "outputs": [
    {
     "name": "stdin",
     "output_type": "stream",
     "text": [
      "enter your age: 20\n"
     ]
    },
    {
     "name": "stdout",
     "output_type": "stream",
     "text": [
      "20\n"
     ]
    }
   ],
   "source": [
    "age=int(input(\"enter your age:\"))\n",
    "print(age)"
   ]
  },
  {
   "cell_type": "code",
   "execution_count": 7,
   "id": "db31d134-0fda-4aa5-8f0d-3945366a0f9f",
   "metadata": {},
   "outputs": [
    {
     "name": "stdout",
     "output_type": "stream",
     "text": [
      "<class 'int'>\n"
     ]
    }
   ],
   "source": [
    "print(type(age))"
   ]
  },
  {
   "cell_type": "code",
   "execution_count": 8,
   "id": "a160868f-7437-48ee-b544-c73296ca2ae1",
   "metadata": {},
   "outputs": [
    {
     "name": "stdin",
     "output_type": "stream",
     "text": [
      "enter your salary: 2000.00\n"
     ]
    },
    {
     "name": "stdout",
     "output_type": "stream",
     "text": [
      "2000.0\n"
     ]
    }
   ],
   "source": [
    "salary=float(input(\"enter your salary:\"))\n",
    "print(salary)"
   ]
  },
  {
   "cell_type": "code",
   "execution_count": 9,
   "id": "1a0cc4ab-b549-4b8d-8a71-4305088dc729",
   "metadata": {},
   "outputs": [
    {
     "name": "stdout",
     "output_type": "stream",
     "text": [
      "<class 'float'>\n"
     ]
    }
   ],
   "source": [
    "print(type(salary))"
   ]
  },
  {
   "cell_type": "code",
   "execution_count": 10,
   "id": "2bd63264-cce1-4457-91da-eaee8e98e35b",
   "metadata": {},
   "outputs": [
    {
     "name": "stdin",
     "output_type": "stream",
     "text": [
      "enter your status: True\n"
     ]
    },
    {
     "name": "stdout",
     "output_type": "stream",
     "text": [
      "True\n"
     ]
    }
   ],
   "source": [
    "status=bool(input(\"enter your status:\"))\n",
    "print(status)"
   ]
  },
  {
   "cell_type": "code",
   "execution_count": 11,
   "id": "69d0718c-aa90-46d8-b8f3-eabdade28c14",
   "metadata": {},
   "outputs": [
    {
     "name": "stdout",
     "output_type": "stream",
     "text": [
      "<class 'bool'>\n"
     ]
    }
   ],
   "source": [
    "print(type(status))"
   ]
  },
  {
   "cell_type": "markdown",
   "id": "f59e0b52-7f58-464e-84ee-b2853533876a",
   "metadata": {},
   "source": [
    "### operators"
   ]
  },
  {
   "cell_type": "code",
   "execution_count": 12,
   "id": "30750ce2-f46e-40f4-8d07-167cddbc03ea",
   "metadata": {},
   "outputs": [
    {
     "name": "stdout",
     "output_type": "stream",
     "text": [
      "12\n",
      "8\n",
      "5.0\n",
      "20\n",
      "0\n",
      "5\n",
      "100\n"
     ]
    }
   ],
   "source": [
    "a=10\n",
    "b=2\n",
    "print(a+b)\n",
    "print(a-b)\n",
    "print(a/b)\n",
    "print(a*b)\n",
    "print(a%b)\n",
    "print(a//b)\n",
    "print(a**b)"
   ]
  },
  {
   "cell_type": "markdown",
   "id": "8d3b0956-2a21-4893-8c0b-7bb8377dff20",
   "metadata": {},
   "source": [
    "### relationship operator"
   ]
  },
  {
   "cell_type": "code",
   "execution_count": 1,
   "id": "0225ffba-9b95-4380-9f0d-d946b2806b39",
   "metadata": {},
   "outputs": [
    {
     "name": "stdout",
     "output_type": "stream",
     "text": [
      "False\n",
      "True\n",
      "False\n",
      "True\n",
      "False\n",
      "True\n"
     ]
    }
   ],
   "source": [
    "a=10\n",
    "b=20\n",
    "print(a>b)\n",
    "print(a<b)\n",
    "print(a>=b)\n",
    "print(a<=b)\n",
    "print(a==b)\n",
    "print(a!=b)"
   ]
  },
  {
   "cell_type": "markdown",
   "id": "68134cc7-d090-4894-aed5-8b4a0c5e2505",
   "metadata": {},
   "source": [
    "###  logical operator"
   ]
  },
  {
   "cell_type": "markdown",
   "id": "09e99fa5-c721-4c34-beff-eef4e3ad664b",
   "metadata": {},
   "source": [
    "### and or not"
   ]
  },
  {
   "cell_type": "markdown",
   "id": "34b44074-153a-412b-abbf-850af790297b",
   "metadata": {},
   "source": [
    "# statement"
   ]
  },
  {
   "cell_type": "markdown",
   "id": "6349068f-7874-4af4-8143-8767107b3cee",
   "metadata": {},
   "source": [
    "## conditional statement"
   ]
  },
  {
   "cell_type": "code",
   "execution_count": 17,
   "id": "223bd498-0e60-4479-ac12-e0dc04e8dc65",
   "metadata": {},
   "outputs": [
    {
     "name": "stdout",
     "output_type": "stream",
     "text": [
      "you are eligible\n"
     ]
    }
   ],
   "source": [
    "age=20\n",
    "if(age>=18):\n",
    "    print(\"you are eligible\")\n",
    "else:\n",
    "    print(\"you are not eligible\")"
   ]
  },
  {
   "cell_type": "code",
   "execution_count": 1,
   "id": "51d3228d-dbb3-4ba4-96ea-7f5a9dbf8425",
   "metadata": {},
   "outputs": [
    {
     "name": "stdin",
     "output_type": "stream",
     "text": [
      "enter your age: 20\n"
     ]
    },
    {
     "name": "stdout",
     "output_type": "stream",
     "text": [
      "you are eligible\n"
     ]
    }
   ],
   "source": [
    "age= int(input(\"enter your age:\"))\n",
    "if(age>=18):\n",
    "    print(\"you are eligible\")\n",
    "else:\n",
    "    print(\"you are not eligible\")"
   ]
  },
  {
   "cell_type": "code",
   "execution_count": 9,
   "id": "6eb451fd-aa40-4afb-941a-e8f1a35fd49e",
   "metadata": {},
   "outputs": [
    {
     "name": "stdout",
     "output_type": "stream",
     "text": [
      "you are not eligible\n"
     ]
    }
   ],
   "source": [
    "age=17\n",
    "if(age>18):\n",
    "    print(\"you are eligible\")\n",
    "else:\n",
    "    print(\"you are not eligible\")"
   ]
  },
  {
   "cell_type": "markdown",
   "id": "604cab2f-ca96-4adf-8657-d9d783c06b8f",
   "metadata": {},
   "source": [
    "### inputs la 2 part"
   ]
  },
  {
   "cell_type": "code",
   "execution_count": 6,
   "id": "ae9a8890-d5f1-4b22-919a-e6f5700d9755",
   "metadata": {},
   "outputs": [
    {
     "name": "stdin",
     "output_type": "stream",
     "text": [
      "enter your first number: 25\n",
      "enter your second number: 30\n"
     ]
    }
   ],
   "source": [
    "a=int(input(\"enter your first number:\"))\n",
    "b=int(input(\"enter your second number:\"))"
   ]
  },
  {
   "cell_type": "markdown",
   "id": "27093228-d91c-4b34-b2f1-70a1395d5153",
   "metadata": {},
   "source": [
    "# positive negative"
   ]
  },
  {
   "cell_type": "code",
   "execution_count": 1,
   "id": "cfb3c5bb-5bb2-4588-b755-3aac7c5bd90b",
   "metadata": {},
   "outputs": [
    {
     "name": "stdin",
     "output_type": "stream",
     "text": [
      " 4\n"
     ]
    },
    {
     "name": "stdout",
     "output_type": "stream",
     "text": [
      "positive number\n"
     ]
    }
   ],
   "source": [
    "num=int(input())\n",
    "if(num>0):\n",
    "    print(\"positive number\")\n",
    "else:\n",
    "    print(\"negatine\")"
   ]
  },
  {
   "cell_type": "code",
   "execution_count": 2,
   "id": "965e73d7-7959-498e-b600-02a3707c96e8",
   "metadata": {},
   "outputs": [
    {
     "name": "stdin",
     "output_type": "stream",
     "text": [
      " -1\n"
     ]
    },
    {
     "name": "stdout",
     "output_type": "stream",
     "text": [
      "negative\n"
     ]
    }
   ],
   "source": [
    "num=int(input())\n",
    "if(num>0):\n",
    "    print(\"positive\")\n",
    "else:\n",
    "    print(\"negative\")"
   ]
  },
  {
   "cell_type": "markdown",
   "id": "f91d595d-7ffa-4da2-a479-fc97c3a01969",
   "metadata": {},
   "source": [
    "# odd or even"
   ]
  },
  {
   "cell_type": "code",
   "execution_count": 4,
   "id": "d42b42ae-2c47-4a82-af0a-350942454c1a",
   "metadata": {},
   "outputs": [
    {
     "name": "stdin",
     "output_type": "stream",
     "text": [
      " 33\n"
     ]
    },
    {
     "name": "stdout",
     "output_type": "stream",
     "text": [
      "33 is divisible by 2,odd number\n"
     ]
    }
   ],
   "source": [
    "num=int(input())\n",
    "if(num%2==0):\n",
    "    print(f\"{num} is divisible by 2,even number\") # input la 22 kudutha even print agum\n",
    "else:\n",
    "    print(f\"{num} is divisible by 2,odd number\")\n",
    "    "
   ]
  },
  {
   "cell_type": "markdown",
   "id": "475ea82b-633f-48e2-a4c8-e0bf5afeedf5",
   "metadata": {},
   "source": [
    "### simple pass or fail"
   ]
  },
  {
   "cell_type": "code",
   "execution_count": 6,
   "id": "2c12b52f-f943-4783-9a46-1018a37069df",
   "metadata": {},
   "outputs": [
    {
     "name": "stdin",
     "output_type": "stream",
     "text": [
      " 55\n"
     ]
    },
    {
     "name": "stdout",
     "output_type": "stream",
     "text": [
      "pass\n"
     ]
    }
   ],
   "source": [
    "mark=int(input())\n",
    "if(mark>50):\n",
    "    print(\"pass\")\n",
    "else:\n",
    "    print(\"fail\")"
   ]
  },
  {
   "cell_type": "markdown",
   "id": "e9e01010-781c-4b0a-823b-056b29f2bb34",
   "metadata": {},
   "source": [
    "#  grade calculator"
   ]
  },
  {
   "cell_type": "code",
   "execution_count": 2,
   "id": "bdc7d0ff-24a8-4300-91b2-909ffd8183f7",
   "metadata": {},
   "outputs": [
    {
     "name": "stdin",
     "output_type": "stream",
     "text": [
      "enter the mark: 89\n"
     ]
    },
    {
     "name": "stdout",
     "output_type": "stream",
     "text": [
      " 89 grade A+\n"
     ]
    }
   ],
   "source": [
    "mark=int(input(\"enter the mark:\"))   #  or mark=int(input()) nu kudukalam\n",
    "if(mark>=91 and mark<=100):\n",
    "    print(f\"{mark} grade o \")\n",
    "elif(mark>=81 and mark<=90):\n",
    "    print(f\" {mark} grade A+\")\n",
    "elif(mark>=71 and mark<=80):\n",
    "    print(f\"{mark} grade A\")\n",
    "elif(mark>=61 and mark<=70):\n",
    "    print(f\"{mark} grade B+\")\n",
    "elif(mark>=51 and mark<=60):\n",
    "    print(f\"{mark} grade B\")\n",
    "elif(mark<50):\n",
    "    print(f\"{mark} fail\")\n",
    "else:\n",
    "    print(\"invalid mark\")\n",
    "    "
   ]
  },
  {
   "cell_type": "markdown",
   "id": "2202d677-d25c-4ee2-81b2-b01cf65bc9ec",
   "metadata": {},
   "source": [
    "#  find the largest"
   ]
  },
  {
   "cell_type": "code",
   "execution_count": 15,
   "id": "7ce2e65b-6938-4d86-8ccd-6d2302a7d6af",
   "metadata": {},
   "outputs": [
    {
     "name": "stdin",
     "output_type": "stream",
     "text": [
      "enter any number: 10.3\n",
      "enter any number: 12.4\n",
      "enter any number: 14.8\n"
     ]
    },
    {
     "name": "stdout",
     "output_type": "stream",
     "text": [
      "c is biggest value\n"
     ]
    }
   ],
   "source": [
    "a=float(input(\"enter any number:\"))\n",
    "b=float(input(\"enter any number:\"))\n",
    "c=float(input(\"enter any number:\"))\n",
    "if(a>b and a>b):\n",
    "    print(\"a is biggest value\")\n",
    "elif(b>a and b>c):\n",
    "    print(\"b is biggest value\")\n",
    "elif(c>a and c>b):\n",
    "    print(\"c is biggest value\")"
   ]
  },
  {
   "cell_type": "markdown",
   "id": "575e357c-a124-4e1c-a04b-6b77095701ab",
   "metadata": {},
   "source": [
    "# vowels"
   ]
  },
  {
   "cell_type": "code",
   "execution_count": 20,
   "id": "dca73370-ebcb-4d5b-ace1-5ef365d7329b",
   "metadata": {},
   "outputs": [
    {
     "name": "stdin",
     "output_type": "stream",
     "text": [
      "enter the letter: A\n"
     ]
    },
    {
     "name": "stdout",
     "output_type": "stream",
     "text": [
      "vowels\n"
     ]
    }
   ],
   "source": [
    "char=input(\"enter the letter:\").lower()  # UPPER()\n",
    "if char in('a','e','i','o','u'):\n",
    "    print(\"vowels\")\n",
    "else:\n",
    "    print(\"consonent\")"
   ]
  },
  {
   "cell_type": "code",
   "execution_count": 1,
   "id": "657912a9-6fd2-4b3b-bf2d-f74fba07a0c3",
   "metadata": {},
   "outputs": [
    {
     "name": "stdin",
     "output_type": "stream",
     "text": [
      "enter the letter: e\n"
     ]
    },
    {
     "name": "stdout",
     "output_type": "stream",
     "text": [
      "vowels\n"
     ]
    }
   ],
   "source": [
    "char=input(\"enter the letter:\") #input la no vowel char kudutha consonent  varum\n",
    "if char in ('a','e','i','o','u'):\n",
    "    print(\"vowels\")\n",
    "else:\n",
    "    print(\"consonent\")"
   ]
  },
  {
   "cell_type": "markdown",
   "id": "aef488dd-c53b-4294-ba7f-381ccde7b15e",
   "metadata": {},
   "source": [
    "# password checker"
   ]
  },
  {
   "cell_type": "code",
   "execution_count": 3,
   "id": "55d8c8b8-1d79-4090-8c77-2c67e92d7629",
   "metadata": {},
   "outputs": [
    {
     "name": "stdin",
     "output_type": "stream",
     "text": [
      "enter your password hema@04r05\n"
     ]
    },
    {
     "name": "stdout",
     "output_type": "stream",
     "text": [
      "hema@04r05 is strong password\n"
     ]
    }
   ],
   "source": [
    "password=input(\"enter your password\")  # password la char  and number kudutha strong password nu print agum\n",
    "if(len(password)<=8):\n",
    "    print(f\"{password} is weak password\")\n",
    "elif(len(password)>9):\n",
    "    print(f\"{password} is strong password\")"
   ]
  },
  {
   "cell_type": "markdown",
   "id": "f927baa3-ce5b-42d8-88e5-c4a2819d6937",
   "metadata": {},
   "source": [
    "# num call if and elif statement "
   ]
  },
  {
   "cell_type": "code",
   "execution_count": 1,
   "id": "b14281a3-64fe-4480-81c7-d16b3e6ebc5c",
   "metadata": {},
   "outputs": [
    {
     "name": "stdin",
     "output_type": "stream",
     "text": [
      "enter any number 20\n",
      "enter any number 10\n",
      "enter any operator(+,-,*,/,:) +\n"
     ]
    },
    {
     "name": "stdout",
     "output_type": "stream",
     "text": [
      "20,10 result is30\n"
     ]
    }
   ],
   "source": [
    "num1=int(input(\"enter any number\"))\n",
    "num2=int (input(\"enter any number\"))\n",
    "op=input(\"enter any operator(+,-,*,/,:)\")\n",
    "if(op=='+'):\n",
    "    print(f\"{num1},{num2} result is{num1+num2}\")\n",
    "elif(op=='-'):\n",
    "     print(f\"{num1},{num2} result is {num1-num2}\")\n",
    "elif(op=='*'):\n",
    "    print(f\"{num1},{num2} result is {num1*num2}\")\n",
    "elif(op=='/'):\n",
    "    print(f\"{num1},{num2} result is {num1/num2}\")\n",
    "elif(op=='%'):\n",
    "    print(f\"{num1},{num2} result is{num1%num2}\")\n",
    "else:\n",
    "    print(\"invaild opertor,pls select valid operator\") # last ta + ku pathila &op kudutha invalid op varum"
   ]
  },
  {
   "cell_type": "markdown",
   "id": "043bedeb-645e-4afb-b243-d93734552dfb",
   "metadata": {},
   "source": [
    "# check the triangle is valid or not"
   ]
  },
  {
   "cell_type": "code",
   "execution_count": 3,
   "id": "1b4b1d45-fadf-4108-bd95-cde4c6b850ff",
   "metadata": {},
   "outputs": [
    {
     "name": "stdin",
     "output_type": "stream",
     "text": [
      "enter any number: 30\n",
      "enter any number: 60\n",
      "enter any number: 90\n"
     ]
    },
    {
     "name": "stdout",
     "output_type": "stream",
     "text": [
      "valid triangle\n"
     ]
    }
   ],
   "source": [
    "angle1=int(input(\"enter any number:\"))\n",
    "angle2=int(input(\"enter any number:\"))\n",
    "angle3=int(input(\"enter any number:\"))\n",
    "if(angle1+angle2+angle3==180):\n",
    "    print(\"valid triangle\")\n",
    "else:\n",
    "    print(\"invalid triangle\")"
   ]
  },
  {
   "cell_type": "code",
   "execution_count": null,
   "id": "a7bc06fc-b6b2-40f4-a087-8281f4600bfb",
   "metadata": {},
   "outputs": [],
   "source": []
  }
 ],
 "metadata": {
  "kernelspec": {
   "display_name": "Python [conda env:base] *",
   "language": "python",
   "name": "conda-base-py"
  },
  "language_info": {
   "codemirror_mode": {
    "name": "ipython",
    "version": 3
   },
   "file_extension": ".py",
   "mimetype": "text/x-python",
   "name": "python",
   "nbconvert_exporter": "python",
   "pygments_lexer": "ipython3",
   "version": "3.13.5"
  }
 },
 "nbformat": 4,
 "nbformat_minor": 5
}
