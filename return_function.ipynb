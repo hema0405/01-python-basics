{
 "cells": [
  {
   "cell_type": "markdown",
   "id": "54b63293-9337-4a09-a22f-988ded390816",
   "metadata": {},
   "source": [
    "## return function"
   ]
  },
  {
   "cell_type": "code",
   "execution_count": 13,
   "id": "d5450704-0799-423f-bb4b-4a7fb8a62998",
   "metadata": {},
   "outputs": [
    {
     "name": "stdout",
     "output_type": "stream",
     "text": [
      "hello\n",
      "6\n"
     ]
    }
   ],
   "source": [
    "def my_func():\n",
    "   print(\"hello\")\n",
    "   return(3+3) \n",
    "a=my_func()\n",
    "print(a)"
   ]
  },
  {
   "cell_type": "code",
   "execution_count": 19,
   "id": "74cf4c55-1f04-4c58-bd09-8546e5c73606",
   "metadata": {},
   "outputs": [
    {
     "name": "stdout",
     "output_type": "stream",
     "text": [
      "7\n",
      "9\n"
     ]
    }
   ],
   "source": [
    "def add(fnum , lnum ):\n",
    "    return fnum+lnum\n",
    "a=add(3,4)\n",
    "print(a)\n",
    "print(add(4,5))"
   ]
  },
  {
   "cell_type": "code",
   "execution_count": 21,
   "id": "258eb9ba-9712-4d08-8cbf-fd8cf6e14986",
   "metadata": {},
   "outputs": [
    {
     "name": "stdout",
     "output_type": "stream",
     "text": [
      "7\n",
      "20 and 10\n"
     ]
    }
   ],
   "source": [
    "def add(fnum , lnum ):\n",
    "    return fnum+lnum\n",
    "a=add(3,4)\n",
    "print(a)\n",
    "print(f\"{add(5,15)} and {add(3,7)}\")"
   ]
  },
  {
   "cell_type": "code",
   "execution_count": 22,
   "id": "628afe3f-e5fb-457f-a610-372949ec7c66",
   "metadata": {},
   "outputs": [
    {
     "name": "stdout",
     "output_type": "stream",
     "text": [
      "hello world\n"
     ]
    }
   ],
   "source": [
    "def my_func():\n",
    "    return \"hello world\"\n",
    "a=my_func()\n",
    "print(a)"
   ]
  },
  {
   "cell_type": "code",
   "execution_count": 24,
   "id": "b6066c61-1ab2-4fc4-9191-0ed70f232c95",
   "metadata": {},
   "outputs": [
    {
     "name": "stdout",
     "output_type": "stream",
     "text": [
      "hello\n"
     ]
    }
   ],
   "source": [
    "def my_func():\n",
    "    return \"hello\"\n",
    "    return True\n",
    "a=my_func()\n",
    "print(a)"
   ]
  },
  {
   "cell_type": "markdown",
   "id": "ff4c32bb-e3aa-456b-bf87-ba44274d17db",
   "metadata": {},
   "source": [
    "## f string call the return"
   ]
  },
  {
   "cell_type": "code",
   "execution_count": 25,
   "id": "0c5bae2a-331b-4ae6-8c40-cafcfbe4d1cf",
   "metadata": {},
   "outputs": [
    {
     "name": "stdout",
     "output_type": "stream",
     "text": [
      "hello,world\n"
     ]
    }
   ],
   "source": [
    "def my_func(x):\n",
    "    return f\"hello,{x}\"\n",
    "my_var=my_func(\"world\")\n",
    "print(my_var)"
   ]
  },
  {
   "cell_type": "code",
   "execution_count": 26,
   "id": "ae2d1c71-587f-4e13-a51e-81d870514bbf",
   "metadata": {},
   "outputs": [
    {
     "name": "stdout",
     "output_type": "stream",
     "text": [
      "hello,analyst\n"
     ]
    }
   ],
   "source": [
    "def my_func(x):\n",
    "    return f\"hello,{x}\"\n",
    "my_var=my_func(\"world\")\n",
    "print(my_func(\"analyst\"))"
   ]
  },
  {
   "cell_type": "code",
   "execution_count": 36,
   "id": "d4bc3f3c-4bfb-44ba-8171-2ccf510d6bb1",
   "metadata": {},
   "outputs": [
    {
     "name": "stdout",
     "output_type": "stream",
     "text": [
      "('hello,world', 'nexila')\n"
     ]
    }
   ],
   "source": [
    "def my_func(y):\n",
    "    x=\"hello,world\"\n",
    "    return x,y\n",
    "print(my_func(\"nexila\"))"
   ]
  },
  {
   "cell_type": "code",
   "execution_count": 38,
   "id": "f168df6a-e4e2-4ea7-bea5-990c2a3d550a",
   "metadata": {},
   "outputs": [
    {
     "name": "stdout",
     "output_type": "stream",
     "text": [
      "nexila\n",
      "hello,world\n"
     ]
    }
   ],
   "source": [
    "def my_func(x):\n",
    "    print(x)\n",
    "    x=\"hello,world\"\n",
    "    return x\n",
    "print(my_func(\"nexila\"))"
   ]
  },
  {
   "cell_type": "code",
   "execution_count": null,
   "id": "f076a75a-9cd2-4264-9cdc-bff333e9ca1d",
   "metadata": {},
   "outputs": [],
   "source": []
  }
 ],
 "metadata": {
  "kernelspec": {
   "display_name": "Python [conda env:base] *",
   "language": "python",
   "name": "conda-base-py"
  },
  "language_info": {
   "codemirror_mode": {
    "name": "ipython",
    "version": 3
   },
   "file_extension": ".py",
   "mimetype": "text/x-python",
   "name": "python",
   "nbconvert_exporter": "python",
   "pygments_lexer": "ipython3",
   "version": "3.13.5"
  }
 },
 "nbformat": 4,
 "nbformat_minor": 5
}
