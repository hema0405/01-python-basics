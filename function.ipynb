{
 "cells": [
  {
   "cell_type": "markdown",
   "id": "f9211579-f727-45a4-89bd-00dc7fbf1e35",
   "metadata": {},
   "source": [
    "# function"
   ]
  },
  {
   "cell_type": "code",
   "execution_count": 3,
   "id": "28a12bbb-0d5f-4884-91ca-6175ebe575f5",
   "metadata": {},
   "outputs": [
    {
     "name": "stdout",
     "output_type": "stream",
     "text": [
      "30\n"
     ]
    }
   ],
   "source": [
    "def add():\n",
    "    a=10\n",
    "    b=20\n",
    "    print(a+b)\n",
    "add()"
   ]
  },
  {
   "cell_type": "code",
   "execution_count": 5,
   "id": "a7cdf90a-d6cc-43fa-b9b9-ec1674d1e3db",
   "metadata": {},
   "outputs": [
    {
     "name": "stdout",
     "output_type": "stream",
     "text": [
      "5\n",
      "30\n"
     ]
    }
   ],
   "source": [
    "def add():\n",
    "    a=10\n",
    "    b=20\n",
    "    print(a+b)\n",
    "print(5)\n",
    "add()"
   ]
  },
  {
   "cell_type": "code",
   "execution_count": 9,
   "id": "271296d4-f2a8-4b54-9819-f0324fed9c41",
   "metadata": {},
   "outputs": [
    {
     "name": "stdout",
     "output_type": "stream",
     "text": [
      "-10\n"
     ]
    }
   ],
   "source": [
    "def sub():\n",
    "    a=10\n",
    "    b=20\n",
    "    print(a-b)\n",
    "sub()"
   ]
  },
  {
   "cell_type": "code",
   "execution_count": 10,
   "id": "72907305-5977-4699-b861-c36b7dda5001",
   "metadata": {},
   "outputs": [
    {
     "name": "stdout",
     "output_type": "stream",
     "text": [
      "200\n"
     ]
    }
   ],
   "source": [
    "def mul():\n",
    "    a=10\n",
    "    b=20\n",
    "    print(a*b)\n",
    "mul()"
   ]
  },
  {
   "cell_type": "code",
   "execution_count": 11,
   "id": "c05962fc-a432-463e-9636-5b7d011c182a",
   "metadata": {},
   "outputs": [
    {
     "name": "stdout",
     "output_type": "stream",
     "text": [
      "0.5\n"
     ]
    }
   ],
   "source": [
    "def div():\n",
    "    a=10\n",
    "    b=20\n",
    "    print(a/b)\n",
    "div()"
   ]
  },
  {
   "cell_type": "code",
   "execution_count": 13,
   "id": "7a73489e-1b65-48f5-b296-fd4ee94e9a97",
   "metadata": {},
   "outputs": [
    {
     "name": "stdout",
     "output_type": "stream",
     "text": [
      "200\n",
      "0.5\n",
      "30\n",
      "200\n"
     ]
    }
   ],
   "source": [
    "mul()\n",
    "div()\n",
    "add()\n",
    "mul()"
   ]
  },
  {
   "cell_type": "markdown",
   "id": "f63465a3-4b24-4333-b1c7-42e105e56591",
   "metadata": {},
   "source": [
    "### parrametrs and argumenrts"
   ]
  },
  {
   "cell_type": "code",
   "execution_count": 7,
   "id": "0edd66c0-0484-4d8d-a59c-eb07061c2092",
   "metadata": {},
   "outputs": [
    {
     "name": "stdout",
     "output_type": "stream",
     "text": [
      "30\n",
      "-10\n",
      "200\n",
      "0.5\n",
      "10\n"
     ]
    }
   ],
   "source": [
    "def add(a,b):  #  a,b is a parameter\n",
    "    print(a+b)\n",
    "add(10,20)    # add(10,20) is a argument\n",
    "\n",
    "def sub(a,b):\n",
    "    print(a-b)\n",
    "sub(10,20)\n",
    "\n",
    "def mul(a,b):\n",
    "    print(a*b)\n",
    "mul(10,20)\n",
    "\n",
    "def div(a,b):\n",
    "    print(a/b)\n",
    "div(10,20)\n",
    "\n",
    "def mod(a,b):\n",
    "    print(a%b)\n",
    "mod(10,20)\n",
    "\n"
   ]
  },
  {
   "cell_type": "code",
   "execution_count": 17,
   "id": "784291c2-b471-4866-b6f9-212122202961",
   "metadata": {},
   "outputs": [
    {
     "name": "stdout",
     "output_type": "stream",
     "text": [
      "the youngest child is C\n"
     ]
    }
   ],
   "source": [
    "def add(child_2,child_3,child_1):\n",
    "    print(\"the youngest child is\",child_3)\n",
    "add(child_1=\"A\",child_2=\"B\",child_3=\"C\")    "
   ]
  },
  {
   "cell_type": "code",
   "execution_count": 5,
   "id": "f09f96ac-a2f8-4b1c-bb56-49b5ad282baa",
   "metadata": {},
   "outputs": [
    {
     "name": "stdout",
     "output_type": "stream",
     "text": [
      "the youngest letter is  hema\n"
     ]
    }
   ],
   "source": [
    "def add(a,b,c):\n",
    "  print(\"the youngest letter is \",a)\n",
    "add(a=\"hema\",b=\"priya\",c=\"divya\")"
   ]
  },
  {
   "cell_type": "code",
   "execution_count": 8,
   "id": "38e9a525-01f3-4ab1-b727-93d6cf01cc99",
   "metadata": {},
   "outputs": [
    {
     "name": "stdout",
     "output_type": "stream",
     "text": [
      "the biggest child is A\n"
     ]
    }
   ],
   "source": [
    "def add(child_2,child_3,child_1):\n",
    "    print(\"the biggest child is\",child_1)\n",
    "add(child_1=\"A\",child_2=\"B\",child_3=\"C\")    "
   ]
  },
  {
   "cell_type": "markdown",
   "id": "b64b737d-8099-4620-bfbd-e77cf6c38483",
   "metadata": {},
   "source": [
    "## function odd or even"
   ]
  },
  {
   "cell_type": "code",
   "execution_count": 13,
   "id": "70fb6da2-aa65-4d1c-8972-2496a502365e",
   "metadata": {},
   "outputs": [
    {
     "name": "stdout",
     "output_type": "stream",
     "text": [
      "even\n"
     ]
    }
   ],
   "source": [
    "def odd_or_even(i):\n",
    "    if (i%2==0):\n",
    "        print(\"even\")\n",
    "    else:\n",
    "        print(\"odd\")\n",
    "odd_or_even(10)"
   ]
  },
  {
   "cell_type": "code",
   "execution_count": 15,
   "id": "ef5f899d-81e0-4723-806b-a3cf39e4de44",
   "metadata": {},
   "outputs": [
    {
     "name": "stdin",
     "output_type": "stream",
     "text": [
      "enter your number: 3\n"
     ]
    },
    {
     "name": "stdout",
     "output_type": "stream",
     "text": [
      "odd\n"
     ]
    }
   ],
   "source": [
    "def odd_or_even(i):\n",
    "    if (i%2==0):\n",
    "        print(\"even\")\n",
    "    else:\n",
    "        print(\"odd\")\n",
    "odd_or_even(int(input(\"enter your number:\")))"
   ]
  },
  {
   "cell_type": "markdown",
   "id": "3d6e45bc-3f45-4005-99fc-6d2f62938b54",
   "metadata": {},
   "source": [
    "## over writing"
   ]
  },
  {
   "cell_type": "code",
   "execution_count": 16,
   "id": "86c3c1a7-355b-434f-97c7-664638d0b02a",
   "metadata": {},
   "outputs": [
    {
     "name": "stdout",
     "output_type": "stream",
     "text": [
      "chennai is in india\n"
     ]
    }
   ],
   "source": [
    "def show_country(city,country='india'):\n",
    "    print(f\"{city} is in {country}\")\n",
    "show_country(\"chennai\")"
   ]
  },
  {
   "cell_type": "code",
   "execution_count": 17,
   "id": "58f26dbb-ffad-4ead-9f61-f9f5b8dd8789",
   "metadata": {},
   "outputs": [
    {
     "name": "stdout",
     "output_type": "stream",
     "text": [
      "chennai is in india\n",
      "paris is in france\n"
     ]
    }
   ],
   "source": [
    "def show_country(city,country='india'):\n",
    "    print(f\"{city} is in {country}\")\n",
    "show_country(\"chennai\")\n",
    "show_country(\"paris\",\"france\")"
   ]
  },
  {
   "cell_type": "code",
   "execution_count": 1,
   "id": "08e925d7-eb34-47e0-afea-0d996c46e893",
   "metadata": {},
   "outputs": [
    {
     "name": "stdout",
     "output_type": "stream",
     "text": [
      "chennai is in india\n",
      "paris is in france\n"
     ]
    }
   ],
   "source": [
    "def show_country(city,country='india'):\n",
    "    print(f\"{city} is in {country}\")\n",
    "show_country(\"chennai\")\n",
    "coun=\"france\"\n",
    "show_country(\"paris\",coun)"
   ]
  },
  {
   "cell_type": "code",
   "execution_count": 22,
   "id": "74f7e60b-5908-45a4-a3d1-a3c9d4a58315",
   "metadata": {},
   "outputs": [
    {
     "name": "stdout",
     "output_type": "stream",
     "text": [
      "chennai is in city\n",
      "paris is in france\n"
     ]
    }
   ],
   "source": [
    "def show_country(city,country='india'):\n",
    "    print(f\"{city} is in {country}\")\n",
    "show_country(\"chennai\",\"city\")\n",
    "coun=\"france\"\n",
    "show_country(\"paris\",coun)"
   ]
  },
  {
   "cell_type": "code",
   "execution_count": 25,
   "id": "dd93fb6a-1d9a-4c13-a16c-deafa8820e28",
   "metadata": {},
   "outputs": [
    {
     "name": "stdout",
     "output_type": "stream",
     "text": [
      "hi\n",
      "my\n",
      "name\n",
      "raj\n",
      "chennai\n",
      "city\n"
     ]
    }
   ],
   "source": [
    "def my_func(*argv):  # * all value to store the output\n",
    "    for i in argv:\n",
    "        print(i)\n",
    "my_func('hi','my','name','raj','chennai','city')"
   ]
  },
  {
   "cell_type": "code",
   "execution_count": 32,
   "id": "64caf9d1-98c9-4aec-af9d-135efa6ec0a9",
   "metadata": {},
   "outputs": [
    {
     "name": "stdout",
     "output_type": "stream",
     "text": [
      "hi\n",
      "my\n",
      "name\n",
      "raj\n",
      "chennai\n",
      "city\n",
      "my name is raj\n"
     ]
    }
   ],
   "source": [
    "def my_func(*argv):  # * all value to store the output\n",
    "    for i in argv:\n",
    "        print(i)\n",
    "    print(\"my name is\",argv[3])\n",
    "my_func('hi','my','name','raj','chennai','city')"
   ]
  },
  {
   "cell_type": "code",
   "execution_count": 33,
   "id": "88574076-9c93-4755-b2b8-a353464976e1",
   "metadata": {},
   "outputs": [
    {
     "name": "stdout",
     "output_type": "stream",
     "text": [
      "hi\n",
      "my\n",
      "name\n",
      "raj\n",
      "chennai\n",
      "city\n"
     ]
    }
   ],
   "source": [
    "def my_func(*kids):  # * all value to store the output\n",
    "    for i in kids:\n",
    "        print(i)\n",
    "my_func('hi','my','name','raj','chennai','city')   # step by step process ku for loop use pananum"
   ]
  },
  {
   "cell_type": "code",
   "execution_count": 37,
   "id": "1d047c47-9e2b-46e4-bd9e-2edb114fe44f",
   "metadata": {},
   "outputs": [
    {
     "name": "stdout",
     "output_type": "stream",
     "text": [
      "i am from sivesan\n",
      "i am from newsaln\n",
      "i am from india\n",
      "i am from norway\n",
      "i am from india\n"
     ]
    }
   ],
   "source": [
    "def my_country(country=\"india\"):\n",
    "   print(\"i am from\",country)\n",
    "my_country(\"sivesan\")\n",
    "my_country(\"newsaln\")\n",
    "my_country()\n",
    "my_country(\"norway\")\n",
    "my_country()"
   ]
  },
  {
   "cell_type": "code",
   "execution_count": 44,
   "id": "e2e953a4-3b17-4837-85ed-de8f36dc3e2b",
   "metadata": {},
   "outputs": [
    {
     "name": "stdout",
     "output_type": "stream",
     "text": [
      "the program was succesfully executed and the output was verified\n"
     ]
    }
   ],
   "source": [
    "def oddeven(x):\n",
    "    \"\"\"the program was succesfully executed and the output was verified\"\"\"\n",
    "print(oddeven.__doc__)"
   ]
  },
  {
   "cell_type": "code",
   "execution_count": 48,
   "id": "069c8d39-31d8-4f36-8047-b0ababce4b40",
   "metadata": {},
   "outputs": [
    {
     "name": "stdout",
     "output_type": "stream",
     "text": [
      "hi,f3\n",
      "hi,f2\n",
      "hi,f1\n"
     ]
    }
   ],
   "source": [
    "def f1():\n",
    "    def f2():\n",
    "        def f3():\n",
    "            print(\"hi,f3\")\n",
    "        f3()\n",
    "        print(\"hi,f2\")\n",
    "    f2()\n",
    "    print(\"hi,f1\")\n",
    "f1()\n",
    "        \n",
    "       "
   ]
  },
  {
   "cell_type": "code",
   "execution_count": 50,
   "id": "c2b56328-2c2d-4b77-a1a3-af219708bab7",
   "metadata": {},
   "outputs": [
    {
     "name": "stdout",
     "output_type": "stream",
     "text": [
      "the loopstarts here:\n",
      "hi,f1\n",
      "hi,f2\n",
      "hi,f3\n"
     ]
    }
   ],
   "source": [
    "def f1():\n",
    "    def f2():\n",
    "        def f3():\n",
    "            print(\"hi,f3\")          # \n",
    "        print(\"hi,f2\")          \n",
    "        f3()\n",
    "    print(\"hi,f1\")    \n",
    "    f2()\n",
    "print(\"the loop starts here:\")\n",
    "f1()\n",
    "        "
   ]
  },
  {
   "cell_type": "code",
   "execution_count": 54,
   "id": "62a6a506-d85d-4c74-8a6e-a4d7dbaf9e1c",
   "metadata": {},
   "outputs": [
    {
     "name": "stdout",
     "output_type": "stream",
     "text": [
      "data engineer\n",
      "i am a data analyst\n",
      " i am a data scientist\n",
      "the find a value: data engineer\n"
     ]
    }
   ],
   "source": [
    "def f1(a):\n",
    "    print(a)                        #  first f1 and f2 \n",
    "    a=\"i am a data analyst\"\n",
    "    print(a)\n",
    "    def f2():\n",
    "        a=\" i am a data scientist\"\n",
    "        print(a)\n",
    "    f2()\n",
    "a=\"data engineer\"\n",
    "f1(a)\n",
    "print(\"the find a value:\",a)"
   ]
  },
  {
   "cell_type": "code",
   "execution_count": 4,
   "id": "56041453-b675-493b-a99a-314052081909",
   "metadata": {},
   "outputs": [
    {
     "name": "stdout",
     "output_type": "stream",
     "text": [
      "i am a data analytist\n"
     ]
    }
   ],
   "source": [
    "def f1():\n",
    "    s=\"iam a data scientist\"\n",
    "    def f2():\n",
    "        s=\"i am a data analytist\"\n",
    "        print(s)\n",
    "    f2()\n",
    "f1()"
   ]
  },
  {
   "cell_type": "code",
   "execution_count": 1,
   "id": "b99bd42b-d392-4bdb-a4a4-8e01661b7e73",
   "metadata": {},
   "outputs": [
    {
     "name": "stdout",
     "output_type": "stream",
     "text": [
      "i am a data scientist\n",
      "i am a data analytist\n"
     ]
    }
   ],
   "source": [
    "def f1():\n",
    "    s=\"i am a data scientist\"\n",
    "    print(s)\n",
    "    def f2():\n",
    "        s=\"i am a data analytist\"\n",
    "        print(s)\n",
    "    f2()\n",
    "f1()"
   ]
  },
  {
   "cell_type": "code",
   "execution_count": null,
   "id": "558a2f14-c635-4780-b763-0504a11effc1",
   "metadata": {},
   "outputs": [],
   "source": []
  }
 ],
 "metadata": {
  "kernelspec": {
   "display_name": "Python [conda env:base] *",
   "language": "python",
   "name": "conda-base-py"
  },
  "language_info": {
   "codemirror_mode": {
    "name": "ipython",
    "version": 3
   },
   "file_extension": ".py",
   "mimetype": "text/x-python",
   "name": "python",
   "nbconvert_exporter": "python",
   "pygments_lexer": "ipython3",
   "version": "3.13.5"
  }
 },
 "nbformat": 4,
 "nbformat_minor": 5
}
