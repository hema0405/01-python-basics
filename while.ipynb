{
 "cells": [
  {
   "cell_type": "code",
   "execution_count": 1,
   "id": "5c5d3dd6-ac03-4805-a8e4-ecaa4783c867",
   "metadata": {},
   "outputs": [
    {
     "name": "stdout",
     "output_type": "stream",
     "text": [
      "2\n",
      "3\n",
      "4\n",
      "5\n",
      "6\n"
     ]
    }
   ],
   "source": [
    "n=1\n",
    "while n<=5:  # condition base\n",
    "    n=n+1\n",
    "    print(n)"
   ]
  },
  {
   "cell_type": "code",
   "execution_count": 2,
   "id": "554dce11-1724-4eab-a363-ec5459a08278",
   "metadata": {},
   "outputs": [
    {
     "name": "stdout",
     "output_type": "stream",
     "text": [
      "1\n",
      "2\n",
      "3\n",
      "4\n",
      "5\n",
      "6\n",
      "7\n",
      "9\n",
      "10\n"
     ]
    }
   ],
   "source": [
    "for i in range(1,11):\n",
    "    if i==8:\n",
    "        #break\n",
    "       continue\n",
    "    else:\n",
    "        print(i)"
   ]
  },
  {
   "cell_type": "code",
   "execution_count": 2,
   "id": "52e87b5b-f815-4f37-9685-17bc53a99997",
   "metadata": {},
   "outputs": [
    {
     "name": "stdout",
     "output_type": "stream",
     "text": [
      "1\n",
      "2\n",
      "3\n",
      "4\n",
      "5\n",
      "loop finished!\n"
     ]
    }
   ],
   "source": [
    "x=1\n",
    "while (x<=5):\n",
    "    print(x)\n",
    "    x=x+1\n",
    "else:\n",
    "    print(\"loop finished!\")"
   ]
  },
  {
   "cell_type": "code",
   "execution_count": 4,
   "id": "b667f21b-f2d7-45af-8954-c3b6ace334cc",
   "metadata": {},
   "outputs": [
    {
     "name": "stdout",
     "output_type": "stream",
     "text": [
      "1\n"
     ]
    }
   ],
   "source": [
    "x=1\n",
    "if (x<=5):\n",
    "    print(x)\n",
    "    x=x+1\n",
    "else:\n",
    "    print(\"loop finished!\")"
   ]
  },
  {
   "cell_type": "code",
   "execution_count": 1,
   "id": "13598f1e-8131-4af7-9b2d-261ced81f098",
   "metadata": {},
   "outputs": [
    {
     "name": "stdout",
     "output_type": "stream",
     "text": [
      "1\n",
      "2\n",
      "3\n",
      "4\n",
      "5\n",
      "loop finished!\n"
     ]
    }
   ],
   "source": [
    "x=1\n",
    "while (x<=5):\n",
    "    print(x)\n",
    "    x=x+1\n",
    "else:\n",
    "    print(\"loop finished!\")"
   ]
  },
  {
   "cell_type": "code",
   "execution_count": 3,
   "id": "2a430178-86bc-429d-ad5b-551bc58b9736",
   "metadata": {},
   "outputs": [
    {
     "name": "stdout",
     "output_type": "stream",
     "text": [
      "1\n",
      "2\n",
      "3\n",
      "4\n",
      "5\n",
      "6\n",
      "7\n",
      "9\n",
      "10\n",
      "11\n",
      "12\n",
      "13\n",
      "14\n",
      "15\n",
      "16\n",
      "17\n",
      "18\n",
      "19\n",
      "20\n",
      "21\n",
      "22\n",
      "23\n",
      "24\n"
     ]
    }
   ],
   "source": [
    "for i in range(1,25):\n",
    "    if i==8:\n",
    "        #break\n",
    "       continue\n",
    "    else:\n",
    "        print(i)"
   ]
  },
  {
   "cell_type": "code",
   "execution_count": null,
   "id": "c4dcd279-8fc3-4c42-8b93-13fd7748ff70",
   "metadata": {},
   "outputs": [
    {
     "name": "stdin",
     "output_type": "stream",
     "text": [
      "enter your number: 55\n"
     ]
    },
    {
     "name": "stdout",
     "output_type": "stream",
     "text": [
      "your number is greater than\n"
     ]
    },
    {
     "name": "stdin",
     "output_type": "stream",
     "text": [
      "enter your number: 43\n"
     ]
    },
    {
     "name": "stdout",
     "output_type": "stream",
     "text": [
      "your number is less than\n"
     ]
    },
    {
     "name": "stdin",
     "output_type": "stream",
     "text": [
      "enter your number: 50\n"
     ]
    },
    {
     "name": "stdout",
     "output_type": "stream",
     "text": [
      "well done your correct answer\n"
     ]
    }
   ],
   "source": [
    "secrect_num=50\n",
    "for i in range(1,101):\n",
    "    num=int(input(\"enter your number:\"))\n",
    "    if num == secrect_num:\n",
    "        print(\"well done your correct answer\")\n",
    "    elif num>secrect_num:\n",
    "        print(\"your number is greater than\")\n",
    "    elif num<secrect_num:\n",
    "        print(\"your number is less than\")"
   ]
  },
  {
   "cell_type": "code",
   "execution_count": null,
   "id": "561b00a7-f16a-43a6-b3fc-02ba275ba295",
   "metadata": {},
   "outputs": [],
   "source": []
  },
  {
   "cell_type": "code",
   "execution_count": null,
   "id": "e7b4d793-c0d6-4e5e-9184-e6dce31e542f",
   "metadata": {},
   "outputs": [],
   "source": []
  }
 ],
 "metadata": {
  "kernelspec": {
   "display_name": "Python [conda env:base] *",
   "language": "python",
   "name": "conda-base-py"
  },
  "language_info": {
   "codemirror_mode": {
    "name": "ipython",
    "version": 3
   },
   "file_extension": ".py",
   "mimetype": "text/x-python",
   "name": "python",
   "nbconvert_exporter": "python",
   "pygments_lexer": "ipython3",
   "version": "3.13.5"
  }
 },
 "nbformat": 4,
 "nbformat_minor": 5
}
