{
 "cells": [
  {
   "cell_type": "code",
   "execution_count": null,
   "id": "b1d63571-d447-4da9-b806-dd62d80f616c",
   "metadata": {},
   "outputs": [],
   "source": [
    "# loop"
   ]
  },
  {
   "cell_type": "markdown",
   "id": "fd8a31d5-77c0-4da7-83e3-218b0e7ee329",
   "metadata": {},
   "source": [
    "## for loop"
   ]
  },
  {
   "cell_type": "code",
   "execution_count": 1,
   "id": "8d09a3c3-9fdb-4596-81a6-152ad4405435",
   "metadata": {},
   "outputs": [
    {
     "name": "stdout",
     "output_type": "stream",
     "text": [
      "1\n",
      "2\n",
      "3\n",
      "4\n",
      "5\n"
     ]
    }
   ],
   "source": [
    "for i in range(1,6): # 6ku manadi varaikum than print agum n-1 \n",
    "    print(i)"
   ]
  },
  {
   "cell_type": "code",
   "execution_count": 2,
   "id": "6af26017-a81b-49f2-a7dd-e3ef792eae60",
   "metadata": {},
   "outputs": [
    {
     "name": "stdout",
     "output_type": "stream",
     "text": [
      "5\n",
      "6\n",
      "7\n",
      "8\n",
      "9\n"
     ]
    }
   ],
   "source": [
    "for i in range(5,10):\n",
    "    print(i)"
   ]
  },
  {
   "cell_type": "code",
   "execution_count": 3,
   "id": "d96e2d40-c532-4f75-9f59-fd4a843afc78",
   "metadata": {},
   "outputs": [
    {
     "name": "stdout",
     "output_type": "stream",
     "text": [
      "hello world\n",
      "hello world\n",
      "hello world\n",
      "hello world\n",
      "hello world\n"
     ]
    }
   ],
   "source": [
    "for i in range(1,6):\n",
    "    print(\"hello world\")"
   ]
  },
  {
   "cell_type": "code",
   "execution_count": 5,
   "id": "1cd1dd4c-e9c5-4793-ae13-f13996ee12c4",
   "metadata": {},
   "outputs": [
    {
     "name": "stdout",
     "output_type": "stream",
     "text": [
      "1--> hello world\n",
      "2--> hello world\n",
      "3--> hello world\n",
      "4--> hello world\n",
      "5--> hello world\n"
     ]
    }
   ],
   "source": [
    "for i in range(1,6):\n",
    "    print(f\"{i}--> hello world\")"
   ]
  },
  {
   "cell_type": "code",
   "execution_count": 9,
   "id": "b3e46a50-2dc5-455a-9687-56752fd10bfc",
   "metadata": {},
   "outputs": [
    {
     "name": "stdout",
     "output_type": "stream",
     "text": [
      "0\n",
      "1\n",
      "2\n",
      "3\n",
      "4\n"
     ]
    }
   ],
   "source": [
    "for i in range(5):\n",
    "    print(i)"
   ]
  },
  {
   "cell_type": "code",
   "execution_count": 10,
   "id": "4337849c-bf48-4115-bae6-a2423e28151d",
   "metadata": {},
   "outputs": [
    {
     "name": "stdout",
     "output_type": "stream",
     "text": [
      "1\n",
      "3\n",
      "5\n",
      "7\n",
      "9\n"
     ]
    }
   ],
   "source": [
    "for i in range(1,11,2):  # 1 start,11 stop,2 step\n",
    "    print(i)"
   ]
  },
  {
   "cell_type": "code",
   "execution_count": 1,
   "id": "1c0be982-9258-475b-a8e1-9a663272f1ad",
   "metadata": {},
   "outputs": [
    {
     "name": "stdout",
     "output_type": "stream",
     "text": [
      "1 -->hello world\n",
      "5 -->hello world\n",
      "9 -->hello world\n",
      "13 -->hello world\n",
      "17 -->hello world\n"
     ]
    }
   ],
   "source": [
    "for i in range(1,20,4):  # last one enna digit kudukoromo aithana value vetu print agum\n",
    "    print(f\"{i} -->hello world\")"
   ]
  },
  {
   "cell_type": "markdown",
   "id": "2ece023d-6b0b-4e2f-8d8d-a2a44f2e924f",
   "metadata": {},
   "source": [
    "# find the odd or even"
   ]
  },
  {
   "cell_type": "code",
   "execution_count": 2,
   "id": "d19be828-de8d-4ca0-b74a-70013378108e",
   "metadata": {},
   "outputs": [
    {
     "name": "stdout",
     "output_type": "stream",
     "text": [
      "1 is the odd number\n",
      "2 is the even number\n",
      "3 is the odd number\n",
      "4 is the even number\n",
      "5 is the odd number\n",
      "6 is the even number\n",
      "7 is the odd number\n",
      "8 is the even number\n",
      "9 is the odd number\n",
      "10 is the even number\n",
      "11 is the odd number\n",
      "12 is the even number\n",
      "13 is the odd number\n",
      "14 is the even number\n",
      "15 is the odd number\n",
      "16 is the even number\n",
      "17 is the odd number\n",
      "18 is the even number\n",
      "19 is the odd number\n",
      "20 is the even number\n"
     ]
    }
   ],
   "source": [
    "for i in range(1,21):\n",
    "    if(i%2==0):\n",
    "        print(f\"{i} is the even number\")\n",
    "    else:\n",
    "        print(f\"{i} is the odd number\")"
   ]
  },
  {
   "cell_type": "markdown",
   "id": "a3701def-a46c-481f-9d82-380dfe48edfa",
   "metadata": {},
   "source": [
    "## empty odd or even"
   ]
  },
  {
   "cell_type": "code",
   "execution_count": 4,
   "id": "ce70f0eb-4e5f-44e0-a2c4-faa770564f48",
   "metadata": {},
   "outputs": [
    {
     "name": "stdout",
     "output_type": "stream",
     "text": [
      "10 total even number isthe range b 1 to 21\n",
      "10 total odd number is the range b1 to 21\n",
      "[1, 3, 5, 7, 9, 11, 13, 15, 17, 19]\n",
      "[2, 4, 6, 8, 10, 12, 14, 16, 18, 20]\n"
     ]
    }
   ],
   "source": [
    "odd=0\n",
    "even=0\n",
    "odd_1=[]\n",
    "even_1=[]\n",
    "for i in range(1,21):\n",
    "    if (i%2==0):\n",
    "        even=even+1\n",
    "        even_1.append(i)\n",
    "    else:\n",
    "        odd=odd+1\n",
    "        odd_1.append(i)\n",
    "print(f\"{even} total even number isthe range b 1 to 21\")\n",
    "print(f\"{odd} total odd number is the range b1 to 21\")\n",
    "print(odd_1)\n",
    "print(even_1)"
   ]
  },
  {
   "cell_type": "code",
   "execution_count": 17,
   "id": "114c356c-e65b-4047-9188-dc531e4319d7",
   "metadata": {},
   "outputs": [
    {
     "name": "stdout",
     "output_type": "stream",
     "text": [
      "6 total number \n",
      "[15, 30, 45, 60, 75, 90]\n"
     ]
    }
   ],
   "source": [
    "odd=0\n",
    "even=[]\n",
    "for i in range(1,101):\n",
    "    if (i%3==0 and i%5==0):\n",
    "        odd=odd+1\n",
    "        even.append(i)\n",
    "print(f\"{odd} total number \")\n",
    "print(even)\n"
   ]
  },
  {
   "cell_type": "code",
   "execution_count": 1,
   "id": "f7ac2a10-0650-4ca6-8280-c4b4db93e153",
   "metadata": {},
   "outputs": [
    {
     "name": "stdout",
     "output_type": "stream",
     "text": [
      "[10, 20]\n"
     ]
    }
   ],
   "source": [
    "a=[10]\n",
    "b=a\n",
    "a.append(20)\n",
    "print(b)"
   ]
  },
  {
   "cell_type": "markdown",
   "id": "b9a58b46-5eaa-4c56-b0ca-117d46a05bad",
   "metadata": {},
   "source": [
    "# nested if for loop"
   ]
  },
  {
   "cell_type": "code",
   "execution_count": 4,
   "id": "a22f6d5e-60a2-4d44-bccf-9546c4c7e0f9",
   "metadata": {},
   "outputs": [
    {
     "name": "stdout",
     "output_type": "stream",
     "text": [
      "1 1 1\n",
      "1 1 2\n",
      "1 1 3\n",
      "1 2 1\n",
      "1 2 2\n",
      "1 2 3\n",
      "1 3 1\n",
      "1 3 2\n",
      "1 3 3\n",
      "1 4 1\n",
      "1 4 2\n",
      "1 4 3\n",
      "1 5 1\n",
      "1 5 2\n",
      "1 5 3\n",
      "2 1 1\n",
      "2 1 2\n",
      "2 1 3\n",
      "2 2 1\n",
      "2 2 2\n",
      "2 2 3\n",
      "2 3 1\n",
      "2 3 2\n",
      "2 3 3\n",
      "2 4 1\n",
      "2 4 2\n",
      "2 4 3\n",
      "2 5 1\n",
      "2 5 2\n",
      "2 5 3\n",
      "3 1 1\n",
      "3 1 2\n",
      "3 1 3\n",
      "3 2 1\n",
      "3 2 2\n",
      "3 2 3\n",
      "3 3 1\n",
      "3 3 2\n",
      "3 3 3\n",
      "3 4 1\n",
      "3 4 2\n",
      "3 4 3\n",
      "3 5 1\n",
      "3 5 2\n",
      "3 5 3\n",
      "4 1 1\n",
      "4 1 2\n",
      "4 1 3\n",
      "4 2 1\n",
      "4 2 2\n",
      "4 2 3\n",
      "4 3 1\n",
      "4 3 2\n",
      "4 3 3\n",
      "4 4 1\n",
      "4 4 2\n",
      "4 4 3\n",
      "4 5 1\n",
      "4 5 2\n",
      "4 5 3\n",
      "5 1 1\n",
      "5 1 2\n",
      "5 1 3\n",
      "5 2 1\n",
      "5 2 2\n",
      "5 2 3\n",
      "5 3 1\n",
      "5 3 2\n",
      "5 3 3\n",
      "5 4 1\n",
      "5 4 2\n",
      "5 4 3\n",
      "5 5 1\n",
      "5 5 2\n",
      "5 5 3\n",
      "6 1 1\n",
      "6 1 2\n",
      "6 1 3\n",
      "6 2 1\n",
      "6 2 2\n",
      "6 2 3\n",
      "6 3 1\n",
      "6 3 2\n",
      "6 3 3\n",
      "6 4 1\n",
      "6 4 2\n",
      "6 4 3\n",
      "6 5 1\n",
      "6 5 2\n",
      "6 5 3\n",
      "7 1 1\n",
      "7 1 2\n",
      "7 1 3\n",
      "7 2 1\n",
      "7 2 2\n",
      "7 2 3\n",
      "7 3 1\n",
      "7 3 2\n",
      "7 3 3\n",
      "7 4 1\n",
      "7 4 2\n",
      "7 4 3\n",
      "7 5 1\n",
      "7 5 2\n",
      "7 5 3\n",
      "8 1 1\n",
      "8 1 2\n",
      "8 1 3\n",
      "8 2 1\n",
      "8 2 2\n",
      "8 2 3\n",
      "8 3 1\n",
      "8 3 2\n",
      "8 3 3\n",
      "8 4 1\n",
      "8 4 2\n",
      "8 4 3\n",
      "8 5 1\n",
      "8 5 2\n",
      "8 5 3\n",
      "9 1 1\n",
      "9 1 2\n",
      "9 1 3\n",
      "9 2 1\n",
      "9 2 2\n",
      "9 2 3\n",
      "9 3 1\n",
      "9 3 2\n",
      "9 3 3\n",
      "9 4 1\n",
      "9 4 2\n",
      "9 4 3\n",
      "9 5 1\n",
      "9 5 2\n",
      "9 5 3\n",
      "10 1 1\n",
      "10 1 2\n",
      "10 1 3\n",
      "10 2 1\n",
      "10 2 2\n",
      "10 2 3\n",
      "10 3 1\n",
      "10 3 2\n",
      "10 3 3\n",
      "10 4 1\n",
      "10 4 2\n",
      "10 4 3\n",
      "10 5 1\n",
      "10 5 2\n",
      "10 5 3\n"
     ]
    }
   ],
   "source": [
    "for i in range(1,11):\n",
    "    for j in range(1,6):\n",
    "        for k in range(1,4):\n",
    "              print(i,j,k)"
   ]
  },
  {
   "cell_type": "code",
   "execution_count": 7,
   "id": "ef744cf2-ee03-4565-ad83-cb2c3a1ca1e5",
   "metadata": {},
   "outputs": [
    {
     "name": "stdout",
     "output_type": "stream",
     "text": [
      "n\n",
      "e\n",
      "x\n",
      "i\n",
      "l\n",
      "a\n"
     ]
    }
   ],
   "source": [
    "name=\"nexila\"\n",
    "for i in \"nexila\":\n",
    "    print(i)"
   ]
  },
  {
   "cell_type": "code",
   "execution_count": 10,
   "id": "6ee5d9ae-f76b-47ac-9996-7e2438ff8f76",
   "metadata": {},
   "outputs": [
    {
     "name": "stdout",
     "output_type": "stream",
     "text": [
      "n\n",
      "e\n",
      "x\n",
      "i\n",
      "l\n",
      "a\n",
      "t\n",
      "e\n",
      "c\n",
      "h\n",
      "c\n",
      "h\n",
      "e\n",
      "n\n",
      "n\n",
      "a\n",
      "i\n"
     ]
    }
   ],
   "source": [
    "name=['nexila','tech','chennai']\n",
    "for i in name:\n",
    "    for j in i:\n",
    "       print(j)"
   ]
  },
  {
   "cell_type": "code",
   "execution_count": null,
   "id": "c1adc140-7893-4782-80f9-385b7e75ad58",
   "metadata": {},
   "outputs": [],
   "source": [
    "# index\n"
   ]
  },
  {
   "cell_type": "code",
   "execution_count": 1,
   "id": "eb49a0fb-2ef5-4804-9520-9eb8fa93e83a",
   "metadata": {},
   "outputs": [
    {
     "name": "stdout",
     "output_type": "stream",
     "text": [
      "3\n",
      "10\n"
     ]
    }
   ],
   "source": [
    "a=[1,2,3,4,5,6,7,8,9,10]\n",
    "print(a[2])\n",
    "print(a[9])"
   ]
  },
  {
   "cell_type": "code",
   "execution_count": 3,
   "id": "04dad84f-65c2-464a-9f3c-a8c89873236e",
   "metadata": {},
   "outputs": [
    {
     "name": "stdout",
     "output_type": "stream",
     "text": [
      "5\n"
     ]
    }
   ],
   "source": [
    "my_list=[1,2,3,4,5]\n",
    "largest=my_list[0]\n",
    "for num in my_list:\n",
    "    if num>largest:\n",
    "        largest=num\n",
    "print(largest)"
   ]
  },
  {
   "cell_type": "code",
   "execution_count": 4,
   "id": "da290d5a-1d5a-42e4-b24a-b07e82973da3",
   "metadata": {},
   "outputs": [
    {
     "name": "stdout",
     "output_type": "stream",
     "text": [
      "1\n"
     ]
    }
   ],
   "source": [
    "my_list=[1,2,3,4,5]\n",
    "small=my_list[0]\n",
    "for num in my_list:\n",
    "    if num<small:\n",
    "        small=num\n",
    "print(small)"
   ]
  },
  {
   "cell_type": "code",
   "execution_count": 2,
   "id": "5263a7de-c0be-41aa-aa1f-ef1e8bf3912d",
   "metadata": {},
   "outputs": [
    {
     "name": "stdout",
     "output_type": "stream",
     "text": [
      "u\n"
     ]
    }
   ],
   "source": [
    "a=[1,2,3,4,5]\n",
    "b=['hema',\"True\",2.2,12]\n",
    "print(b[1][2])"
   ]
  },
  {
   "cell_type": "code",
   "execution_count": 3,
   "id": "6f128ecc-6904-493e-b75f-f04ecd4d623c",
   "metadata": {},
   "outputs": [
    {
     "name": "stdout",
     "output_type": "stream",
     "text": [
      "<class 'list'>\n"
     ]
    }
   ],
   "source": [
    "a=[1,2,3,4,5]\n",
    "print(type(a))"
   ]
  },
  {
   "cell_type": "code",
   "execution_count": 4,
   "id": "defb489b-b8a3-4c80-b78f-29725e0e8e5e",
   "metadata": {},
   "outputs": [
    {
     "name": "stdout",
     "output_type": "stream",
     "text": [
      "<class 'tuple'>\n"
     ]
    }
   ],
   "source": [
    "a=(1,2,3,4,5)\n",
    "print(type(a))"
   ]
  },
  {
   "cell_type": "code",
   "execution_count": 5,
   "id": "16afad0c-0b92-4337-9898-a6fcceab8af1",
   "metadata": {},
   "outputs": [
    {
     "name": "stdout",
     "output_type": "stream",
     "text": [
      "<class 'set'>\n"
     ]
    }
   ],
   "source": [
    "a={1,2,3,4,5}\n",
    "print(type(a))"
   ]
  },
  {
   "cell_type": "code",
   "execution_count": 16,
   "id": "a28445e7-0491-409d-85fb-2b4dc6e89bae",
   "metadata": {},
   "outputs": [
    {
     "name": "stdout",
     "output_type": "stream",
     "text": [
      "<class 'dict'>\n",
      "hema\n"
     ]
    }
   ],
   "source": [
    "dict={1:'hema'}\n",
    "print(type(dict))\n",
    "print(dict[1])"
   ]
  },
  {
   "cell_type": "code",
   "execution_count": 29,
   "id": "07624742-3db9-4b28-b833-5be8023db653",
   "metadata": {},
   "outputs": [
    {
     "name": "stdout",
     "output_type": "stream",
     "text": [
      "hema\n"
     ]
    }
   ],
   "source": [
    "student_details={\n",
    "                  'name':'hema',\n",
    "                   'age':20,\n",
    "                   'dob':'04-08-2005',\n",
    "                   'dept':'cs'\n",
    "                 }\n",
    "print(student_details['name'])"
   ]
  },
  {
   "cell_type": "code",
   "execution_count": null,
   "id": "a615e0a2-a1ba-4da7-8098-a6b09ce0242c",
   "metadata": {},
   "outputs": [],
   "source": []
  }
 ],
 "metadata": {
  "kernelspec": {
   "display_name": "Python [conda env:base] *",
   "language": "python",
   "name": "conda-base-py"
  },
  "language_info": {
   "codemirror_mode": {
    "name": "ipython",
    "version": 3
   },
   "file_extension": ".py",
   "mimetype": "text/x-python",
   "name": "python",
   "nbconvert_exporter": "python",
   "pygments_lexer": "ipython3",
   "version": "3.13.5"
  }
 },
 "nbformat": 4,
 "nbformat_minor": 5
}
