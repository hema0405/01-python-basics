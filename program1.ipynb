{
 "cells": [
  {
   "cell_type": "markdown",
   "id": "ceb4de75-f98c-4529-a6fc-ea1eb08658ed",
   "metadata": {},
   "source": [
    "# 1.Print \"Hello, World!\" to the console."
   ]
  },
  {
   "cell_type": "code",
   "execution_count": 1,
   "id": "ddca41fb-bfc3-4cca-b430-095d677e8ddf",
   "metadata": {},
   "outputs": [
    {
     "name": "stdout",
     "output_type": "stream",
     "text": [
      "hello,world!\n"
     ]
    }
   ],
   "source": [
    "print(\"hello,world!\")"
   ]
  },
  {
   "cell_type": "markdown",
   "id": "8a3246a4-4742-4f21-8dc0-7c10346eb552",
   "metadata": {},
   "source": [
    "# 2.Print your name 10 times using a for loop."
   ]
  },
  {
   "cell_type": "code",
   "execution_count": 4,
   "id": "d15ad614-5002-48e5-ac01-36a471873f35",
   "metadata": {},
   "outputs": [
    {
     "name": "stdout",
     "output_type": "stream",
     "text": [
      "hema\n",
      "hema\n",
      "hema\n",
      "hema\n",
      "hema\n",
      "hema\n",
      "hema\n",
      "hema\n",
      "hema\n",
      "hema\n"
     ]
    }
   ],
   "source": [
    "for i in range(1,11):\n",
    "    print(\"hema\")"
   ]
  },
  {
   "cell_type": "markdown",
   "id": "67a41e61-8553-48c1-a46e-0bb248919bda",
   "metadata": {},
   "source": [
    "# 3.Print the numbers from 1 to 10 using a while loop."
   ]
  },
  {
   "cell_type": "code",
   "execution_count": 6,
   "id": "4cc6a153-867f-4359-a0ac-213fd7b94fa3",
   "metadata": {},
   "outputs": [
    {
     "name": "stdout",
     "output_type": "stream",
     "text": [
      "1\n",
      "2\n",
      "3\n",
      "4\n",
      "5\n",
      "6\n",
      "7\n",
      "8\n",
      "9\n",
      "10\n",
      "loop finished!\n"
     ]
    }
   ],
   "source": [
    "a=1\n",
    "while(a<=10):\n",
    "    print(a)\n",
    "    a=a+1\n",
    "else:\n",
    "    print(\"loop finished!\")"
   ]
  },
  {
   "cell_type": "markdown",
   "id": "7b3d6b1b-911b-4961-97e1-51927d57753e",
   "metadata": {},
   "source": [
    "# 4.Print the numbers from 10 to 1 (in reverse) using a for loop."
   ]
  },
  {
   "cell_type": "code",
   "execution_count": 15,
   "id": "a3e83351-4ee1-4cb4-8839-7437e8ef57d8",
   "metadata": {},
   "outputs": [
    {
     "name": "stdout",
     "output_type": "stream",
     "text": [
      "10\n",
      "9\n",
      "8\n",
      "7\n",
      "6\n",
      "5\n",
      "4\n",
      "3\n",
      "2\n",
      "1\n"
     ]
    }
   ],
   "source": [
    "for  i in range(10,0,-1):\n",
    "    print(i)"
   ]
  },
  {
   "cell_type": "markdown",
   "id": "ff94f818-1741-4b71-8cd7-a6ce4282a9af",
   "metadata": {},
   "source": [
    "# 5.Print the even numbers from 1 to 20."
   ]
  },
  {
   "cell_type": "code",
   "execution_count": 18,
   "id": "b6174c29-49a8-4223-aa9a-b003b757172e",
   "metadata": {},
   "outputs": [
    {
     "name": "stdout",
     "output_type": "stream",
     "text": [
      "2\n",
      "4\n",
      "6\n",
      "8\n",
      "10\n",
      "12\n",
      "14\n",
      "16\n",
      "18\n",
      "20\n"
     ]
    }
   ],
   "source": [
    "for i in range(1,21):\n",
    "    if(i%2==0):\n",
    "        print(i)"
   ]
  },
  {
   "cell_type": "markdown",
   "id": "8b85c510-8cf7-46d3-a9df-50a057f4d681",
   "metadata": {},
   "source": [
    "# 6.Print the multiplication table for the number 5 (up to 10)."
   ]
  },
  {
   "cell_type": "code",
   "execution_count": 29,
   "id": "40a9c200-3899-4566-a6c9-fb917b7da2d0",
   "metadata": {},
   "outputs": [
    {
     "name": "stdout",
     "output_type": "stream",
     "text": [
      "1 x5= 5\n",
      "2 x5= 10\n",
      "3 x5= 15\n",
      "4 x5= 20\n",
      "5 x5= 25\n",
      "6 x5= 30\n",
      "7 x5= 35\n",
      "8 x5= 40\n",
      "9 x5= 45\n",
      "10 x5= 50\n"
     ]
    }
   ],
   "source": [
    "for i in range(1,11):\n",
    "    print(i,\"x5=\",i*5)"
   ]
  },
  {
   "cell_type": "markdown",
   "id": "d87f0aa2-66c8-4fcd-901f-2b7389705486",
   "metadata": {},
   "source": [
    "# 7.Calculate the sum of numbers from 1 to 100 and print the result."
   ]
  },
  {
   "cell_type": "code",
   "execution_count": 30,
   "id": "3aaad26d-a4c7-4f41-aa8a-a3ea67aae6fd",
   "metadata": {},
   "outputs": [
    {
     "name": "stdout",
     "output_type": "stream",
     "text": [
      "sum of numbers: 5050\n"
     ]
    }
   ],
   "source": [
    "n=100\n",
    "sum_num=n*(n+1)//2\n",
    "print(\"sum of numbers:\",sum_num)"
   ]
  },
  {
   "cell_type": "markdown",
   "id": "a79b172b-73c0-4c57-8cf2-3110980aa18b",
   "metadata": {},
   "source": [
    "# 8.Calculate the factorial of a given number (e.g., 5! = 120)."
   ]
  },
  {
   "cell_type": "code",
   "execution_count": 35,
   "id": "d55f7326-2775-4dcc-b732-e4484902c25b",
   "metadata": {},
   "outputs": [
    {
     "name": "stdout",
     "output_type": "stream",
     "text": [
      "5 = 1\n",
      "5 = 2\n",
      "5 = 6\n",
      "5 = 24\n",
      "5 = 120\n"
     ]
    }
   ],
   "source": [
    "count = 1\n",
    "for i in range(1, 6):\n",
    "    count = count*i\n",
    "    print(f\"{number} = {count}\")\n",
    "\n",
    "    "
   ]
  },
  {
   "cell_type": "code",
   "execution_count": 5,
   "id": "b6d6d4ac-9c4a-4614-801e-240c8ea68fee",
   "metadata": {},
   "outputs": [
    {
     "name": "stdout",
     "output_type": "stream",
     "text": [
      "5  = 120\n"
     ]
    }
   ],
   "source": [
    "count = 1\n",
    "for i in range(1, 6):\n",
    "    count = count*i\n",
    "print(f\"{i}  = {count}\")"
   ]
  },
  {
   "cell_type": "markdown",
   "id": "2dfb1ba3-3b1b-4363-a795-9af56bff61c3",
   "metadata": {},
   "source": [
    "# 9.Print the Fibonacci sequence up to the n-th term (e.g., n=7: 0, 1, 1, 2, 3, 5, 8)."
   ]
  },
  {
   "cell_type": "code",
   "execution_count": 9,
   "id": "3b855684-46cc-4ea3-8fb9-9b93ea3fbd2f",
   "metadata": {},
   "outputs": [
    {
     "name": "stdin",
     "output_type": "stream",
     "text": [
      "enter the number: 7\n"
     ]
    },
    {
     "name": "stdout",
     "output_type": "stream",
     "text": [
      "0112358"
     ]
    }
   ],
   "source": [
    "n=int(input(\"enter the number:\"))\n",
    "a,b=0,1\n",
    "count=0\n",
    "while count<n:\n",
    "    print(a,end=\"\")\n",
    "    a,b=b,a+b\n",
    "    count+=1"
   ]
  },
  {
   "cell_type": "markdown",
   "id": "2e9a0d2c-1fab-4217-87fe-4e10ebf51254",
   "metadata": {},
   "source": [
    "# 10.Check if a given number is prime. Print \"Prime\" or \"Not Prime\". "
   ]
  },
  {
   "cell_type": "code",
   "execution_count": 67,
   "id": "25e6609e-e24b-4aca-a558-a831fd8c9240",
   "metadata": {},
   "outputs": [
    {
     "name": "stdin",
     "output_type": "stream",
     "text": [
      "enter the number: 4\n"
     ]
    },
    {
     "name": "stdout",
     "output_type": "stream",
     "text": [
      " not prime number\n"
     ]
    }
   ],
   "source": [
    "n=int(input(\"enter the number:\"))\n",
    "for i in range(2,n):\n",
    " if(n%i==0):\n",
    "   print(\" not prime number\")\n",
    "   break\n",
    "else:\n",
    "  print(\" prime number\")"
   ]
  },
  {
   "cell_type": "code",
   "execution_count": 66,
   "id": "3eeecf74-8f41-44df-862c-8c6b40142b0d",
   "metadata": {},
   "outputs": [
    {
     "name": "stdin",
     "output_type": "stream",
     "text": [
      "enter the number: 13\n"
     ]
    },
    {
     "name": "stdout",
     "output_type": "stream",
     "text": [
      " prime number\n"
     ]
    }
   ],
   "source": [
    "n=int(input(\"enter the number:\"))\n",
    "for i in range(2,n):\n",
    " if(n%i==0):\n",
    "   print(\" not prime number\")\n",
    "   break\n",
    "else:\n",
    "  print(\" prime number\")"
   ]
  },
  {
   "cell_type": "markdown",
   "id": "0cfdb389-3eac-4219-b848-d413bf81dcc5",
   "metadata": {},
   "source": [
    "# 11.Print all prime numbers between 1 and 50."
   ]
  },
  {
   "cell_type": "code",
   "execution_count": 76,
   "id": "53dad2cc-3be9-4b5e-9afe-68e63def95d4",
   "metadata": {},
   "outputs": [
    {
     "name": "stdout",
     "output_type": "stream",
     "text": [
      "2\n",
      "4\n",
      "6\n",
      "8\n",
      "10\n",
      "12\n",
      "14\n",
      "16\n",
      "18\n",
      "20\n",
      "22\n",
      "24\n",
      "26\n",
      "28\n",
      "30\n",
      "32\n",
      "34\n",
      "36\n",
      "38\n",
      "40\n",
      "42\n",
      "44\n",
      "46\n",
      "48\n",
      "50\n"
     ]
    }
   ],
   "source": [
    "for i in range(1,51):\n",
    " count=0\n",
    " if(i%2==0):\n",
    "    print(i)"
   ]
  },
  {
   "cell_type": "markdown",
   "id": "a904286f-3533-4ae5-8813-24a48fb10625",
   "metadata": {},
   "source": [
    "# 12.Find the largest of three numbers entered by a user (using input())."
   ]
  },
  {
   "cell_type": "code",
   "execution_count": 77,
   "id": "c66003db-a71f-4f9c-b799-0b07bfcfdf0d",
   "metadata": {},
   "outputs": [
    {
     "name": "stdin",
     "output_type": "stream",
     "text": [
      "enter the number: 45\n",
      "enter the number: 55\n",
      "enter the number: 78\n"
     ]
    },
    {
     "name": "stdout",
     "output_type": "stream",
     "text": [
      "z is the largest number\n"
     ]
    }
   ],
   "source": [
    "x=int(input(\"enter the number:\"))\n",
    "y=int(input(\"enter the number:\"))\n",
    "z=int(input(\"enter the number:\"))\n",
    "if(x>y and x>z):\n",
    "    print(\"x is the largest number\")\n",
    "elif(y>z and y>x):\n",
    "    print(\" y is the largest number\")\n",
    "elif(z>x and z>y):\n",
    "    print(\"z is the largest number\")"
   ]
  },
  {
   "cell_type": "markdown",
   "id": "f6652f21-dfd4-4ccb-b963-9f1e99b89fd8",
   "metadata": {},
   "source": [
    "# 13.Check if a number is positive, negative, or zero."
   ]
  },
  {
   "cell_type": "code",
   "execution_count": 5,
   "id": "4ef07de5-d2cf-4aa4-920b-026b92bb531b",
   "metadata": {},
   "outputs": [
    {
     "name": "stdin",
     "output_type": "stream",
     "text": [
      "enter the number: 1\n"
     ]
    },
    {
     "name": "stdout",
     "output_type": "stream",
     "text": [
      "positive\n"
     ]
    }
   ],
   "source": [
    "n=int(input(\"enter the number:\"))\n",
    "if(n>0):\n",
    "    print(\"positive\")\n",
    "elif(n<0):\n",
    "    print(\"negative\")\n",
    "else:\n",
    "    print(\"zero\")"
   ]
  },
  {
   "cell_type": "code",
   "execution_count": 6,
   "id": "e828784c-c405-40c4-bbde-8d543e442141",
   "metadata": {},
   "outputs": [
    {
     "name": "stdin",
     "output_type": "stream",
     "text": [
      "enter the number: -1\n"
     ]
    },
    {
     "name": "stdout",
     "output_type": "stream",
     "text": [
      "negative\n"
     ]
    }
   ],
   "source": [
    "n=int(input(\"enter the number:\"))\n",
    "if(n>0):\n",
    "    print(\"positive\")\n",
    "elif(n<0):\n",
    "    print(\"negative\")\n",
    "else:\n",
    "    print(\"zero\")"
   ]
  },
  {
   "cell_type": "code",
   "execution_count": 9,
   "id": "2fe3476a-8250-45ab-acf2-fab497e2a817",
   "metadata": {},
   "outputs": [
    {
     "name": "stdin",
     "output_type": "stream",
     "text": [
      "enter the number: 00\n"
     ]
    },
    {
     "name": "stdout",
     "output_type": "stream",
     "text": [
      "zero\n"
     ]
    }
   ],
   "source": [
    "n=int(input(\"enter the number:\"))\n",
    "if(n>0):\n",
    "    print(\"positive\")\n",
    "elif(n<0):\n",
    "    print(\"negative\")\n",
    "else:\n",
    "    print(\"zero\")"
   ]
  },
  {
   "cell_type": "markdown",
   "id": "cabee27b-ca95-4d10-ae25-fcf473ef28b8",
   "metadata": {},
   "source": [
    "# 14.Check if a given year is a leap year"
   ]
  },
  {
   "cell_type": "code",
   "execution_count": 18,
   "id": "57216786-2c6f-412a-8728-a647b81ae697",
   "metadata": {},
   "outputs": [
    {
     "name": "stdin",
     "output_type": "stream",
     "text": [
      "enter the year: 2024\n"
     ]
    },
    {
     "name": "stdout",
     "output_type": "stream",
     "text": [
      "2024leap year\n"
     ]
    }
   ],
   "source": [
    "year=int(input(\"enter the year:\"))\n",
    "if(year%4==0 and year%100!=0) or (year%400==0):\n",
    "    print(f\"{ year}leap year\")\n",
    "else:\n",
    "    print(f\"{year}not leap year\")\n",
    "    "
   ]
  },
  {
   "cell_type": "code",
   "execution_count": 19,
   "id": "3123b523-ce0b-4cd5-b90b-279ecb8379d5",
   "metadata": {},
   "outputs": [
    {
     "name": "stdin",
     "output_type": "stream",
     "text": [
      "enter the year: 2025\n"
     ]
    },
    {
     "name": "stdout",
     "output_type": "stream",
     "text": [
      "2025not leap year\n"
     ]
    }
   ],
   "source": [
    "year=int(input(\"enter the year:\"))\n",
    "if(year%4 == 0 and year%100!=0) or (year%400==0):\n",
    "    print(f\"{ year}leap year\")\n",
    "else:\n",
    "    print(f\"{year}not leap year\")"
   ]
  },
  {
   "cell_type": "markdown",
   "id": "24a98783-3d2e-419c-9d9a-68f7930db65b",
   "metadata": {},
   "source": [
    "# 15.Print the squares of numbers from 1 to 10."
   ]
  },
  {
   "cell_type": "code",
   "execution_count": 10,
   "id": "f314ac96-fcbc-48cf-9df0-19d59f126485",
   "metadata": {},
   "outputs": [
    {
     "name": "stdout",
     "output_type": "stream",
     "text": [
      "1 is 1\n",
      "2 is 4\n",
      "3 is 9\n",
      "4 is 16\n",
      "5 is 25\n",
      "6 is 36\n",
      "7 is 49\n",
      "8 is 64\n",
      "9 is 81\n",
      "10 is 100\n"
     ]
    }
   ],
   "source": [
    "for n in range(1,11):\n",
    " square=n**2\n",
    " print(f\"{n} is {square}\")"
   ]
  },
  {
   "cell_type": "markdown",
   "id": "16dce40a-ccc7-4cec-a28e-2207ecede168",
   "metadata": {},
   "source": [
    "# 16.Find the sum of all even numbers between 1 and n."
   ]
  },
  {
   "cell_type": "code",
   "execution_count": 29,
   "id": "989873c5-8b97-44d5-86b5-d1d19eaab167",
   "metadata": {},
   "outputs": [
    {
     "name": "stdin",
     "output_type": "stream",
     "text": [
      "enter the number: 16\n"
     ]
    },
    {
     "name": "stdout",
     "output_type": "stream",
     "text": [
      "2 2\n",
      "4 6\n",
      "6 12\n",
      "8 20\n",
      "10 30\n",
      "12 42\n",
      "14 56\n",
      "16 72\n"
     ]
    }
   ],
   "source": [
    "n=int(input(\"enter the number:\"))\n",
    "sum_even=0\n",
    "for i in range(2,n+1,2):\n",
    "   sum_even+=i\n",
    "   print(f\"{i} {sum_even}\")"
   ]
  },
  {
   "cell_type": "code",
   "execution_count": 36,
   "id": "cbe02ba3-0e0c-492a-ba5b-373bf546742a",
   "metadata": {},
   "outputs": [
    {
     "name": "stdin",
     "output_type": "stream",
     "text": [
      "enter the number: 16\n"
     ]
    },
    {
     "name": "stdout",
     "output_type": "stream",
     "text": [
      " 2\n",
      " 6\n",
      " 12\n",
      " 20\n",
      " 30\n",
      " 42\n",
      " 56\n",
      " 72\n"
     ]
    }
   ],
   "source": [
    "n=int(input(\"enter the number:\"))\n",
    "sum_even=0\n",
    "for i in range(2,n+1,2):\n",
    " sum_even+=i\n",
    " print(f\" {sum_even}\")"
   ]
  },
  {
   "cell_type": "markdown",
   "id": "a108d6b5-08f0-4d52-b5dd-75227c79ec97",
   "metadata": {},
   "source": [
    "# 17.Reverse a given number (e.g., 1234 becomes 4321)."
   ]
  },
  {
   "cell_type": "code",
   "execution_count": 49,
   "id": "7fad5868-e168-4ee0-bf1c-fe77502667bb",
   "metadata": {},
   "outputs": [
    {
     "name": "stdout",
     "output_type": "stream",
     "text": [
      "1234 4321\n"
     ]
    }
   ],
   "source": [
    "normal_str=\"1234\"\n",
    "reverse_str=normal_str[::-1]\n",
    "print(f\"{normal_str} {reverse_str}\")"
   ]
  },
  {
   "cell_type": "markdown",
   "id": "f099b2e8-76d2-4c82-ba16-2a60a7a9ab3a",
   "metadata": {},
   "source": [
    "# 18.Check if a number is a palindrome (reads the same forwards and backwards)."
   ]
  },
  {
   "cell_type": "code",
   "execution_count": 55,
   "id": "acfbb2d8-5db2-4568-a9b1-19ed01b9923f",
   "metadata": {},
   "outputs": [
    {
     "name": "stdout",
     "output_type": "stream",
     "text": [
      "palindrome\n"
     ]
    }
   ],
   "source": [
    "normal_str=\"amma\"\n",
    "if(normal_str == normal_str[::-1]):\n",
    "  print(\"palindrome\")\n",
    "else:\n",
    "  print(\"not palindrome\")\n"
   ]
  },
  {
   "cell_type": "code",
   "execution_count": 58,
   "id": "39f700ac-f8ae-4fb2-bc1d-7b2780ab818c",
   "metadata": {},
   "outputs": [
    {
     "name": "stdin",
     "output_type": "stream",
     "text": [
      "enter the palin: mom\n"
     ]
    },
    {
     "name": "stdout",
     "output_type": "stream",
     "text": [
      "palindrome\n"
     ]
    }
   ],
   "source": [
    "normal_str=str(input(\"enter the palin:\"))\n",
    "if(normal_str == normal_str[::-1]):\n",
    "  print(\"palindrome\")\n",
    "else:\n",
    "  print(\"not palindrome\")\n"
   ]
  },
  {
   "cell_type": "markdown",
   "id": "0d7ad757-2d89-4936-b2be-df16094f8cd8",
   "metadata": {},
   "source": [
    "# 19.Check if a number is an Armstrong number (sum of its digits raised to the power of the number of digits)."
   ]
  },
  {
   "cell_type": "code",
   "execution_count": 4,
   "id": "7458f6a8-d13d-4a27-8fee-a81828db29aa",
   "metadata": {},
   "outputs": [
    {
     "name": "stdin",
     "output_type": "stream",
     "text": [
      "enter the number: 153\n"
     ]
    },
    {
     "name": "stdout",
     "output_type": "stream",
     "text": [
      "amstrong\n"
     ]
    }
   ],
   "source": [
    "num=input(\"enter the number:\")\n",
    "sum=0\n",
    "for i in num:\n",
    "    sum+=int(i)**3\n",
    "if(sum==int(num)):\n",
    "  print(\"amstrong\")\n",
    "else:\n",
    "  print(\"not armstrong\")"
   ]
  },
  {
   "cell_type": "code",
   "execution_count": 6,
   "id": "1ff0552f-d202-4e1a-9f26-e3eba57b9fca",
   "metadata": {},
   "outputs": [
    {
     "name": "stdin",
     "output_type": "stream",
     "text": [
      "enter the number: 225\n"
     ]
    },
    {
     "name": "stdout",
     "output_type": "stream",
     "text": [
      "not armstrong\n"
     ]
    }
   ],
   "source": [
    "num=input(\"enter the number:\")\n",
    "sum=0\n",
    "for i in num:                                        \n",
    "    sum+=int(i)**3\n",
    "if(sum==int(num)):\n",
    "  print(\"amstrong\")\n",
    "else:\n",
    "  print(\"not armstrong\")"
   ]
  },
  {
   "cell_type": "markdown",
   "id": "1af8a890-082a-42b5-8997-4efcb494cfab",
   "metadata": {},
   "source": [
    "# 20.Convert a binary number (as a string, e.g., \"1010\") to its decimal equivalent."
   ]
  },
  {
   "cell_type": "code",
   "execution_count": 22,
   "id": "8ba18613-f648-4619-bf17-4de1e9d52b4e",
   "metadata": {},
   "outputs": [
    {
     "name": "stdout",
     "output_type": "stream",
     "text": [
      "Decimal_equivalent: 10\n"
     ]
    }
   ],
   "source": [
    "binary_str = \"1010\"\n",
    "decimal_value = int(binary_str, 2)\n",
    "print(f\"Decimal_equivalent:\",decimal_value)"
   ]
  },
  {
   "cell_type": "markdown",
   "id": "fb7c151f-2a0e-40cf-9025-8143a439cd23",
   "metadata": {},
   "source": [
    "# 21.Convert a decimal number to binary (as a string)."
   ]
  },
  {
   "cell_type": "code",
   "execution_count": 34,
   "id": "9cc81fcf-411f-4cf3-a658-e97ab4294e9b",
   "metadata": {},
   "outputs": [
    {
     "name": "stdout",
     "output_type": "stream",
     "text": [
      "10: {'1010'}\n"
     ]
    }
   ],
   "source": [
    "decimal_num=10\n",
    "binary_str = bin(decimal_num)[2:]\n",
    "print(f\"{decimal_num}:\",{binary_str})"
   ]
  },
  {
   "cell_type": "markdown",
   "id": "507b09b1-c759-4009-a7f5-f0cc47054ed2",
   "metadata": {},
   "source": [
    "# 22.Find the GCD (Greatest Common Divisor) of two numbers."
   ]
  },
  {
   "cell_type": "code",
   "execution_count": 36,
   "id": "d2e1f21f-9d77-40a8-9544-1adfafd38a13",
   "metadata": {},
   "outputs": [
    {
     "name": "stdin",
     "output_type": "stream",
     "text": [
      "Enter the first number:  12\n",
      "Enter the second number:  18\n"
     ]
    },
    {
     "name": "stdout",
     "output_type": "stream",
     "text": [
      "The GCD of 12 and 18 is: 6\n"
     ]
    }
   ],
   "source": [
    "num1 = int(input(\"Enter the first number: \"))\n",
    "num2 = int(input(\"Enter the second number: \"))\n",
    "if num1 < num2:\n",
    "    smaller = num1\n",
    "else:\n",
    "    smaller = num2\n",
    "for i in range(1, smaller + 1):\n",
    "    if num1 % i == 0 and num2 % i == 0:\n",
    "        gcd = i \n",
    "print(\"The GCD of\", num1, \"and\", num2, \"is:\", gcd)"
   ]
  },
  {
   "cell_type": "code",
   "execution_count": 15,
   "id": "aa2570d7-ce9e-4c4a-abcc-24df434e31c2",
   "metadata": {},
   "outputs": [
    {
     "name": "stdin",
     "output_type": "stream",
     "text": [
      " 12\n",
      " 24\n"
     ]
    },
    {
     "name": "stdout",
     "output_type": "stream",
     "text": [
      "the gcd of 12 and 24 is: 1\n",
      "the gcd of 12 and 24 is: 2\n",
      "the gcd of 12 and 24 is: 3\n",
      "the gcd of 12 and 24 is: 4\n",
      "the gcd of 12 and 24 is: 6\n",
      "the gcd of 12 and 24 is: 12\n"
     ]
    }
   ],
   "source": [
    "n1=int(input())\n",
    "n2=int(input())\n",
    "if n1<n2:\n",
    "    small=n1\n",
    "elif(n2>n1):\n",
    "    small=n2\n",
    "for i in range(1,small+1):\n",
    "    if(n1%i==0 and n2%i==0):\n",
    "        gcd=i\n",
    "        print(\"the gcd of\", n1, \"and\", n2 ,\"is:\",gcd)"
   ]
  },
  {
   "cell_type": "markdown",
   "id": "c6f9841d-0ff2-429c-8a18-dca94a2e2c22",
   "metadata": {},
   "source": [
    "# 23.Find the LCM (Least Common Multiple) of two numbers"
   ]
  },
  {
   "cell_type": "code",
   "execution_count": 2,
   "id": "cbb7138f-d5bf-435d-9625-4e86e23a9579",
   "metadata": {},
   "outputs": [
    {
     "name": "stdin",
     "output_type": "stream",
     "text": [
      "enter the first number: 4\n",
      "enter the second number: 6\n"
     ]
    },
    {
     "name": "stdout",
     "output_type": "stream",
     "text": [
      "the lcm of 4 and 6 is: 12\n"
     ]
    }
   ],
   "source": [
    "n1=int(input(\"enter the first number:\"))\n",
    "n2=int(input(\"enter the second number:\"))\n",
    "if n1>n2:\n",
    "    big=n1\n",
    "else:\n",
    "    big=n2\n",
    "while True:\n",
    "  if(big %n1==0 and big %n2==0):\n",
    "     lcm=big\n",
    "     print(\"the lcm of\",n1,\"and\" ,n2,\"is:\",lcm)\n",
    "     break\n",
    "  big+=1"
   ]
  },
  {
   "cell_type": "markdown",
   "id": "3e0a478f-7a80-489e-91c9-530ce915a02d",
   "metadata": {},
   "source": [
    "# 24.Print a simple right-angled triangle pattern using * (e.g., 5 rows)."
   ]
  },
  {
   "cell_type": "code",
   "execution_count": 9,
   "id": "882994a3-98e5-425a-9e29-71c9d2ff71cb",
   "metadata": {},
   "outputs": [
    {
     "name": "stdout",
     "output_type": "stream",
     "text": [
      "*\n",
      "**\n",
      "***\n",
      "****\n",
      "*****\n"
     ]
    }
   ],
   "source": [
    "rows=5\n",
    "for i in range(1,rows+1):\n",
    "    print(\"*\"*i)"
   ]
  },
  {
   "cell_type": "markdown",
   "id": "6d84c123-c531-4abb-92bc-da85ed2064bc",
   "metadata": {},
   "source": [
    "# 25.Print an inverted right-angled triangle pattern using *."
   ]
  },
  {
   "cell_type": "code",
   "execution_count": 8,
   "id": "70168517-fe3b-4c75-89d0-59d727c1f29c",
   "metadata": {},
   "outputs": [
    {
     "name": "stdout",
     "output_type": "stream",
     "text": [
      "******\n",
      "*****\n",
      "****\n",
      "***\n",
      "**\n",
      "*\n"
     ]
    }
   ],
   "source": [
    "rows=6\n",
    "for i in range(rows,0,-1):\n",
    "    print(i*\"*\")\n",
    "          "
   ]
  },
  {
   "cell_type": "markdown",
   "id": "72c6f01d-e54d-4b0f-9af5-ea5062bfda95",
   "metadata": {},
   "source": [
    "# 26.Print a pyramid pattern using *."
   ]
  },
  {
   "cell_type": "code",
   "execution_count": 11,
   "id": "d84ce517-1be3-4cad-8aca-d79ee6dbbe91",
   "metadata": {},
   "outputs": [
    {
     "name": "stdout",
     "output_type": "stream",
     "text": [
      "    *\n",
      "   ***\n",
      "  *****\n",
      " *******\n",
      "*********\n"
     ]
    }
   ],
   "source": [
    "rows = 5\n",
    "\n",
    "for i in range(1, rows + 1):\n",
    "    spaces = rows - i\n",
    "    stars = 2 * i - 1\n",
    "    print(\" \" * spaces + \"*\" * stars)"
   ]
  },
  {
   "cell_type": "markdown",
   "id": "73e8b166-9234-4c10-b119-16eb03f895c6",
   "metadata": {},
   "source": [
    " # 27.Print a diamond pattern using * (for an odd number of rows).                                                                         "
   ]
  },
  {
   "cell_type": "code",
   "execution_count": 12,
   "id": "0c3ba110-391e-4747-b161-a2486af18f2c",
   "metadata": {},
   "outputs": [
    {
     "name": "stdout",
     "output_type": "stream",
     "text": [
      "   *\n",
      "  ***\n",
      " *****\n",
      "*******\n",
      " *****\n",
      "  ***\n",
      "   *\n"
     ]
    }
   ],
   "source": [
    "rows = 7 \n",
    "mid = rows // 2 + 1 \n",
    "for i in range(1, mid + 1):\n",
    "    spaces = mid - i\n",
    "    stars = 2 * i - 1\n",
    "    print(\" \" * spaces + \"*\" * stars)\n",
    "for i in range(mid - 1, 0, -1):\n",
    "    spaces = mid - i\n",
    "    stars = 2 * i - 1\n",
    "    print(\" \" * spaces + \"*\" * stars)"
   ]
  },
  {
   "cell_type": "markdown",
   "id": "fb41e66b-81ed-4d91-9bc6-6502da8bd9a0",
   "metadata": {},
   "source": [
    "# 28.Print all letters in the English alphabet (a-z) using a loop."
   ]
  },
  {
   "cell_type": "code",
   "execution_count": 31,
   "id": "b7d8e703-0cbe-44f7-95ad-8ead4bc78beb",
   "metadata": {},
   "outputs": [
    {
     "name": "stdout",
     "output_type": "stream",
     "text": [
      "abcdefghijklmnopqrstuvwxyz"
     ]
    }
   ],
   "source": [
    "for i in range(97,123):  # it has range of ascii value for alphabet a-z\n",
    "    print(chr(i),end=\"\")"
   ]
  },
  {
   "cell_type": "markdown",
   "id": "cced01c5-801b-4baf-bc0d-c5037c32b453",
   "metadata": {},
   "source": [
    "# 29.Calculate the area of a circle given its radius."
   ]
  },
  {
   "cell_type": "code",
   "execution_count": 37,
   "id": "ae931136-0295-490e-9d69-bef898676e2c",
   "metadata": {},
   "outputs": [
    {
     "name": "stdin",
     "output_type": "stream",
     "text": [
      "enter the radius of circle: 7\n"
     ]
    },
    {
     "name": "stdout",
     "output_type": "stream",
     "text": [
      "the area of the circle is : 153.93804002589985\n"
     ]
    }
   ],
   "source": [
    " import math\n",
    "radius=float(input(\"enter the radius of circle:\"))\n",
    "area = math.pi*radius**2\n",
    "print(\"the area of the circle is :\",area)\n"
   ]
  },
  {
   "cell_type": "markdown",
   "id": "cd412798-8eea-465d-813c-500c2fbd0e72",
   "metadata": {},
   "source": [
    "# 30.Convert temperature from Celsius to Fahrenheit and vice-versa"
   ]
  },
  {
   "cell_type": "code",
   "execution_count": 53,
   "id": "4f473e25-047b-40e1-b6ec-8d916fbd5aff",
   "metadata": {},
   "outputs": [
    {
     "name": "stdin",
     "output_type": "stream",
     "text": [
      "enter the temperature in celsius: 34.9\n"
     ]
    },
    {
     "name": "stdout",
     "output_type": "stream",
     "text": [
      "temperature fahrenheit: 94.82\n"
     ]
    },
    {
     "name": "stdin",
     "output_type": "stream",
     "text": [
      "enter the temperature in fahrenheit: 94.82\n"
     ]
    },
    {
     "name": "stdout",
     "output_type": "stream",
     "text": [
      "temperature celsius: 33.23333333333333\n"
     ]
    }
   ],
   "source": [
    "celsius = float(input(\"enter the temperature in celsius:\"))\n",
    "fahrenheit = (celsius*9/5)+32\n",
    "print(\"temperature fahrenheit:\",fahrenheit)\n",
    "fahrenheit = float(input(\"enter the temperature in fahrenheit:\"))\n",
    "celsius = (fahrenheit-35)*5/9\n",
    "print(\"temperature celsius:\",celsius)\n",
    "    \n",
    "    \n"
   ]
  },
  {
   "cell_type": "code",
   "execution_count": null,
   "id": "0de8d281-8237-4022-aee6-841eb97f49fa",
   "metadata": {},
   "outputs": [],
   "source": []
  }
 ],
 "metadata": {
  "kernelspec": {
   "display_name": "Python [conda env:base] *",
   "language": "python",
   "name": "conda-base-py"
  },
  "language_info": {
   "codemirror_mode": {
    "name": "ipython",
    "version": 3
   },
   "file_extension": ".py",
   "mimetype": "text/x-python",
   "name": "python",
   "nbconvert_exporter": "python",
   "pygments_lexer": "ipython3",
   "version": "3.13.5"
  }
 },
 "nbformat": 4,
 "nbformat_minor": 5
}
